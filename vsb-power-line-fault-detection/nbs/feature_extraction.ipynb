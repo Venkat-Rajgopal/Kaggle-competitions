{
 "cells": [
  {
   "cell_type": "code",
   "execution_count": 1,
   "metadata": {
    "_cell_guid": "b1076dfc-b9ad-4769-8c92-a6c4dae69d19",
    "_uuid": "8f2839f25d086af736a60e9eeb907d3b93b6e0e5"
   },
   "outputs": [
    {
     "name": "stderr",
     "output_type": "stream",
     "text": [
      "Using TensorFlow backend.\n"
     ]
    }
   ],
   "source": [
    "import pandas as pd\n",
    "import pyarrow.parquet as pq # Used to read the data\n",
    "import os \n",
    "import numpy as np\n",
    "from keras.layers import * # Keras is the most friendly Neural Network library, this Kernel use a lot of layers classes\n",
    "from keras.models import Model\n",
    "from tqdm import tqdm # Processing time measurement\n",
    "from sklearn.model_selection import train_test_split \n",
    "from keras import backend as K # The backend give us access to tensorflow operations and allow us to create the Attention class\n",
    "from keras import optimizers # Allow us to access the Adam class to modify some parameters\n",
    "from sklearn.model_selection import GridSearchCV, StratifiedKFold # Used to use Kfold to train our model\n",
    "from keras.callbacks import * # This object helps the model to train in a smarter way, avoiding overfitting"
   ]
  },
  {
   "cell_type": "code",
   "execution_count": 2,
   "metadata": {},
   "outputs": [],
   "source": [
    "# change data dir based on machine\n",
    "local = True\n",
    "if local is True:\n",
    "    data_dir = 'data/'\n",
    "else:\n",
    "    data_dir = '../input/vsb-power-line-fault-detection/'    "
   ]
  },
  {
   "cell_type": "code",
   "execution_count": 3,
   "metadata": {
    "_uuid": "6e6379386e44afc69bee8895a52da22199e888fb"
   },
   "outputs": [],
   "source": [
    "# set parameters\n",
    "# select how many folds will be created\n",
    "N_SPLITS = 5\n",
    "# it is just a constant with the measurements data size\n",
    "sample_size = 800000\n",
    "\n",
    "# min max values of the signal\n",
    "max_num = 127\n",
    "min_num = -128"
   ]
  },
  {
   "cell_type": "code",
   "execution_count": 4,
   "metadata": {
    "_uuid": "c3340ee96becb5ca8f075d9c44b7df383ddba5ee"
   },
   "outputs": [],
   "source": [
    "# It is the official metric used in this competition\n",
    "# below is the declaration of a function used inside the keras model, calculation with K (keras backend / thensorflow)\n",
    "def matthews_correlation(y_true, y_pred):\n",
    "    '''Calculates the Matthews correlation coefficient measure for quality\n",
    "    of binary classification problems.\n",
    "    '''\n",
    "    y_pred_pos = K.round(K.clip(y_pred, 0, 1))\n",
    "    y_pred_neg = 1 - y_pred_pos\n",
    "\n",
    "    y_pos = K.round(K.clip(y_true, 0, 1))\n",
    "    y_neg = 1 - y_pos\n",
    "\n",
    "    tp = K.sum(y_pos * y_pred_pos)\n",
    "    tn = K.sum(y_neg * y_pred_neg)\n",
    "\n",
    "    fp = K.sum(y_neg * y_pred_pos)\n",
    "    fn = K.sum(y_pos * y_pred_neg)\n",
    "\n",
    "    numerator = (tp * tn - fp * fn)\n",
    "    denominator = K.sqrt((tp + fp) * (tp + fn) * (tn + fp) * (tn + fn))\n",
    "\n",
    "    return numerator / (denominator + K.epsilon())"
   ]
  },
  {
   "cell_type": "code",
   "execution_count": 5,
   "metadata": {
    "_uuid": "eda7ea366117d1ce8e5fce69e5bba333821d8b48"
   },
   "outputs": [],
   "source": [
    "# https://www.kaggle.com/suicaokhoailang/lstm-attention-baseline-0-652-lb\n",
    "# main attention class\n",
    "class Attention(Layer):\n",
    "    def __init__(self, step_dim,\n",
    "                 W_regularizer=None, b_regularizer=None,\n",
    "                 W_constraint=None, b_constraint=None,\n",
    "                 bias=True, **kwargs):\n",
    "        self.supports_masking = True\n",
    "        self.init = initializers.get('glorot_uniform')\n",
    "\n",
    "        self.W_regularizer = regularizers.get(W_regularizer)\n",
    "        self.b_regularizer = regularizers.get(b_regularizer)\n",
    "\n",
    "        self.W_constraint = constraints.get(W_constraint)\n",
    "        self.b_constraint = constraints.get(b_constraint)\n",
    "\n",
    "        self.bias = bias\n",
    "        self.step_dim = step_dim\n",
    "        self.features_dim = 0\n",
    "        super(Attention, self).__init__(**kwargs)\n",
    "\n",
    "    def build(self, input_shape):\n",
    "        assert len(input_shape) == 3\n",
    "\n",
    "        self.W = self.add_weight((input_shape[-1],),\n",
    "                                 initializer=self.init,\n",
    "                                 name='{}_W'.format(self.name),\n",
    "                                 regularizer=self.W_regularizer,\n",
    "                                 constraint=self.W_constraint)\n",
    "        self.features_dim = input_shape[-1]\n",
    "\n",
    "        if self.bias:\n",
    "            self.b = self.add_weight((input_shape[1],),\n",
    "                                     initializer='zero',\n",
    "                                     name='{}_b'.format(self.name),\n",
    "                                     regularizer=self.b_regularizer,\n",
    "                                     constraint=self.b_constraint)\n",
    "        else:\n",
    "            self.b = None\n",
    "\n",
    "        self.built = True\n",
    "\n",
    "    def compute_mask(self, input, input_mask=None):\n",
    "        return None\n",
    "\n",
    "    def call(self, x, mask=None):\n",
    "        features_dim = self.features_dim\n",
    "        step_dim = self.step_dim\n",
    "\n",
    "        eij = K.reshape(K.dot(K.reshape(x, (-1, features_dim)),\n",
    "                        K.reshape(self.W, (features_dim, 1))), (-1, step_dim))\n",
    "\n",
    "        if self.bias:\n",
    "            eij += self.b\n",
    "\n",
    "        eij = K.tanh(eij)\n",
    "\n",
    "        a = K.exp(eij)\n",
    "\n",
    "        if mask is not None:\n",
    "            a *= K.cast(mask, K.floatx())\n",
    "\n",
    "        a /= K.cast(K.sum(a, axis=1, keepdims=True) + K.epsilon(), K.floatx())\n",
    "\n",
    "        a = K.expand_dims(a)\n",
    "        weighted_input = x * a\n",
    "        return K.sum(weighted_input, axis=1)\n",
    "\n",
    "    def compute_output_shape(self, input_shape):\n",
    "        return input_shape[0],  self.features_dim"
   ]
  },
  {
   "cell_type": "code",
   "execution_count": 6,
   "metadata": {
    "_cell_guid": "79c7e3d0-c299-4dcb-8224-4455121ee9b0",
    "_uuid": "d629ff2d2480ee46fbb7e2d37f6b5fab8052498a",
    "scrolled": true
   },
   "outputs": [
    {
     "data": {
      "text/plain": [
       "(                      signal_id  target\n",
       " id_measurement phase                   \n",
       " 0              0              0       0\n",
       "                1              1       0\n",
       "                2              2       0\n",
       " 1              0              3       1\n",
       "                1              4       1,\n",
       " 8712)"
      ]
     },
     "execution_count": 6,
     "metadata": {},
     "output_type": "execute_result"
    }
   ],
   "source": [
    "# just load train data\n",
    "# set index, it makes the data access much faster\n",
    "\n",
    "df_train = pd.read_csv(data_dir + 'metadata_train.csv')\n",
    "df_train = df_train.set_index(['id_measurement', 'phase'])\n",
    "df_train.head(), len(df_train)"
   ]
  },
  {
   "cell_type": "code",
   "execution_count": 7,
   "metadata": {
    "_uuid": "7b0717b14bcfcba1f48d33c8161ae51c778687af"
   },
   "outputs": [],
   "source": [
    "# This function standardize the data from (-128 to 127) to (-1 to 1)\n",
    "# Theoretically it helps in the NN Model training, but I didn't tested without it\n",
    "def min_max_transf(ts, min_data, max_data, range_needed=(-1,1)):\n",
    "    if min_data < 0:\n",
    "        ts_std = (ts + abs(min_data)) / (max_data + abs(min_data))\n",
    "    else:\n",
    "        ts_std = (ts - min_data) / (max_data - min_data)\n",
    "    if range_needed[0] < 0:    \n",
    "        return ts_std * (range_needed[1] + abs(range_needed[0])) + range_needed[0]\n",
    "    else:\n",
    "        return ts_std * (range_needed[1] - range_needed[0]) + range_needed[0]"
   ]
  },
  {
   "cell_type": "code",
   "execution_count": 9,
   "metadata": {
    "_uuid": "c6137bbbe75c3a1509a5f98e08805dbbd492aa37"
   },
   "outputs": [],
   "source": [
    "# This is one of the most important peace of code of this Kernel\n",
    "# Any power line contain 3 phases of 800000 measurements, or 2.4 millions data \n",
    "# It would be praticaly impossible to build a NN with an input of that size\n",
    "# The ideia here is to reduce it each phase to a matrix of <n_dim> bins by n features\n",
    "# Each bean is a set of 5000 measurements (800000 / 160), so the features are extracted from this 5000 chunk data.\n",
    "def transform_ts(ts, n_dim=160, min_max=(-1,1)):\n",
    "    # convert data into -1 to 1\n",
    "    ts_std = min_max_transf(ts, min_data=min_num, max_data=max_num)\n",
    "    # bucket or chunk size, 5000 in this case (800000 / 160)\n",
    "    bucket_size = int(sample_size / n_dim)\n",
    "    # new_ts will be the container of the new data\n",
    "    new_ts = []\n",
    "    # this for iteract any chunk/bucket until reach the whole sample_size (800000)\n",
    "    for i in range(0, sample_size, bucket_size):\n",
    "        # cut each bucket to ts_range\n",
    "        ts_range = ts_std[i:i + bucket_size]\n",
    "        # calculate each feature\n",
    "        mean = ts_range.mean()\n",
    "        std = ts_range.std() # standard deviation\n",
    "        std_top = mean + std # I have to test it more, but is is like a band\n",
    "        std_bot = mean - std\n",
    "        # I think that the percentiles are very important, it is like a distribuiton analysis from eath chunk\n",
    "        percentil_calc = np.percentile(ts_range, [0, 1, 25, 50, 75, 99, 100]) \n",
    "        max_range = percentil_calc[-1] - percentil_calc[0] # this is the amplitude of the chunk\n",
    "        relative_percentile = percentil_calc - mean # maybe it could heap to understand the asymmetry\n",
    "        # now, we just add all the features to new_ts and convert it to np.array\n",
    "        new_ts.append(np.concatenate([np.asarray([mean, std, std_top, std_bot, max_range]),percentil_calc, relative_percentile]))\n",
    "    return np.asarray(new_ts)"
   ]
  },
  {
   "cell_type": "code",
   "execution_count": 10,
   "metadata": {
    "_uuid": "7460e718a605803f1d9e4fbec61750a0deb02a47"
   },
   "outputs": [],
   "source": [
    "# this function take a piece of data and convert using transform_ts(), but it does to each of the 3 phases\n",
    "# if we would try to do in one time, could exceed the RAM Memmory\n",
    "def prep_data(start, end):\n",
    "    # load a piece of data from file\n",
    "    praq_train = pq.read_pandas(data_dir + 'train.parquet', columns=[str(i) for i in range(start, end)]).to_pandas()\n",
    "    X = []\n",
    "    y = []\n",
    "    # using tdqm to evaluate processing time\n",
    "    # takes each index from df_train and iteract it from start to end\n",
    "    # it is divided by 3 because for each id_measurement there are 3 id_signal, and the start/end parameters are id_signal\n",
    "    for id_measurement in tqdm(df_train.index.levels[0].unique()[int(start/3):int(end/3)]):\n",
    "        X_signal = []\n",
    "        # for each phase of the signal\n",
    "        for phase in [0,1,2]:\n",
    "            # extract from df_train both signal_id and target to compose the new data sets\n",
    "            signal_id, target = df_train.loc[id_measurement].loc[phase]\n",
    "            # but just append the target one time, to not triplicate it\n",
    "            if phase == 0:\n",
    "                y.append(target)\n",
    "            # extract and transform data into sets of features\n",
    "            X_signal.append(transform_ts(praq_train[str(signal_id)]))\n",
    "        # concatenate all the 3 phases in one matrix\n",
    "        X_signal = np.concatenate(X_signal, axis=1)\n",
    "        # add the data to X\n",
    "        X.append(X_signal)\n",
    "    X = np.asarray(X)\n",
    "    y = np.asarray(y)\n",
    "    return X, y"
   ]
  },
  {
   "cell_type": "code",
   "execution_count": 20,
   "metadata": {
    "scrolled": true
   },
   "outputs": [
    {
     "data": {
      "text/plain": [
       "((2904, 160, 57), (2904,))"
      ]
     },
     "execution_count": 20,
     "metadata": {},
     "output_type": "execute_result"
    }
   ],
   "source": [
    "# since 3 phases.Transformed signal is 160x19. X shape  19*3 = 57 \n",
    "X.shape, y.shape   "
   ]
  },
  {
   "cell_type": "code",
   "execution_count": 10,
   "metadata": {
    "scrolled": false
   },
   "outputs": [
    {
     "data": {
      "image/png": "[encoded data removed]",
      "text/plain": [
       "<Figure size 720x576 with 1 Axes>"
      ]
     },
     "metadata": {
      "needs_background": "light"
     },
     "output_type": "display_data"
    }
   ],
   "source": [
    "# visualize transformed signals for each phase\n",
    "praq_train = pq.read_pandas(data_dir + 'train.parquet', columns=[str(i) for i in range(0, 4356)]).to_pandas()\n",
    "\n",
    "signal_id, target  = df_train.loc[0].loc[0] \n",
    "\n",
    "import matplotlib.pyplot as plt\n",
    "#praq_train[str(signal_id)].plot()\n",
    "\n",
    "transform_ts(praq_train[str(signal_id)]).shape\n",
    "\n",
    "# plt.plot(transform_ts(praq_train[str(signal_id)])[:,0])\n",
    "transformed_sig = transform_ts(praq_train[str(signal_id)]) # has a shape of 160 x 19\n",
    "plt.figure(figsize=(10, 8))\n",
    "for i in range(transformed_sig.shape[1]):\n",
    "    plt.plot(transformed_sig[:, i])"
   ]
  },
  {
   "cell_type": "code",
   "execution_count": 71,
   "metadata": {},
   "outputs": [
    {
     "name": "stdout",
     "output_type": "stream",
     "text": [
      "161\n"
     ]
    }
   ],
   "source": [
    "bucket_size = int(sample_size / 160)\n",
    "\n",
    "range(0, sample_size, bucket_size)\n",
    "\n",
    "count = 1\n",
    "for i in range(0, sample_size, bucket_size):\n",
    "    count += 1\n",
    "    \n",
    "print(count)"
   ]
  },
  {
   "cell_type": "code",
   "execution_count": 56,
   "metadata": {
    "scrolled": false
   },
   "outputs": [],
   "source": [
    "# praq_train.iloc[:, 4000].plot()\n",
    "ts = praq_train.iloc[:, 4000]\n",
    "ts_std = min_max_transf(ts, min_data=min_num, max_data=max_num)\n",
    "\n",
    "# ts_std.plot()\n",
    "\n",
    "bucket_size = int(sample_size / 160)\n",
    "new_ts = []\n",
    "\n",
    "# this for iteract any chunk/bucket until reach the whole sample_size (800000)\n",
    "#  for size of every 5000 \n",
    "for i in range(0, sample_size, bucket_size):\n",
    "        # cut each bucket to ts_range\n",
    "        ts_range = ts_std[i:i + bucket_size] # shape 5000., \n",
    "        \n",
    "        # feature calculation\n",
    "        mean = ts_range.mean()\n",
    "        std = ts_range.std() # standard deviation\n",
    "        std_top = mean + std \n",
    "        std_bot = mean - std\n",
    "\n",
    "        # percentile calc\n",
    "        percentil_calc = np.percentile(ts_range, [0, 1, 25, 50, 75, 99, 100]) \n",
    "        max_range = percentil_calc[-1] - percentil_calc[0] # this is the amplitude of the chunk\n",
    "        relative_percentile = percentil_calc - mean # maybe it could heap to understand the asymmetry\n",
    "        new_ts.append(np.concatenate([np.asarray([mean, std, std_top, std_bot, max_range]),percentil_calc, relative_percentile]))\n",
    "        \n",
    "        "
   ]
  },
  {
   "cell_type": "code",
   "execution_count": 68,
   "metadata": {},
   "outputs": [
    {
     "data": {
      "text/plain": [
       "[array([-0.05764235,  0.01175207, -0.04589028, -0.06939442,  0.07843137,\n",
       "        -0.09803922, -0.08235294, -0.06666667, -0.05882353, -0.05098039,\n",
       "        -0.03529412, -0.01960784, -0.04039686, -0.02471059, -0.00902431,\n",
       "        -0.00118118,  0.00666196,  0.02234824,  0.03803451]),\n",
       " array([-0.05628863,  0.01115256, -0.04513607, -0.06744119,  0.07058824,\n",
       "        -0.09019608, -0.08235294, -0.06666667, -0.05882353, -0.05098039,\n",
       "        -0.03529412, -0.01960784, -0.03390745, -0.02606431, -0.01037804,\n",
       "        -0.0025349 ,  0.00530824,  0.02099451,  0.03668078]),\n",
       " array([-0.05793098,  0.01164406, -0.04628692, -0.06957504,  0.08627451,\n",
       "        -0.10588235, -0.08235294, -0.06666667, -0.05882353, -0.05098039,\n",
       "        -0.03529412, -0.01960784, -0.04795137, -0.02442196, -0.00873569,\n",
       "        -0.00089255,  0.00695059,  0.02263686,  0.03832314]),\n",
       " array([-0.05055059,  0.01171609, -0.0388345 , -0.06226668,  0.07843137,\n",
       "        -0.09019608, -0.0745098 , -0.05882353, -0.05098039, -0.04313725,\n",
       "        -0.02745098, -0.01176471, -0.03964549, -0.02395922, -0.00827294,\n",
       "        -0.0004298 ,  0.00741333,  0.02309961,  0.03878588]),\n",
       " array([-0.0499749 ,  0.01149333, -0.03848158, -0.06146823,  0.07843137,\n",
       "        -0.09019608, -0.0745098 , -0.05882353, -0.05098039, -0.04313725,\n",
       "        -0.02745098, -0.01176471, -0.04022118, -0.0245349 , -0.00884863,\n",
       "        -0.00100549,  0.00683765,  0.02252392,  0.0382102 ]),\n",
       " array([-0.0444298 ,  0.01226073, -0.03216907, -0.05669054,  0.09411765,\n",
       "        -0.08235294, -0.0745098 , -0.05098039, -0.04313725, -0.03529412,\n",
       "        -0.01960784,  0.01176471, -0.03792314, -0.03008   , -0.00655059,\n",
       "         0.00129255,  0.00913569,  0.02482196,  0.05619451]),\n",
       " array([-0.03282353,  0.01141385, -0.02140968, -0.04423738,  0.07843137,\n",
       "        -0.0745098 , -0.05882353, -0.04313725, -0.03529412, -0.02745098,\n",
       "        -0.00392157,  0.00392157, -0.04168627, -0.026     , -0.01031373,\n",
       "        -0.00247059,  0.00537255,  0.02890196,  0.0367451 ]),\n",
       " array([-0.04036078,  0.01176244, -0.02859834, -0.05212323,  0.07058824,\n",
       "        -0.0745098 , -0.06666667, -0.05098039, -0.04313725, -0.03529412,\n",
       "        -0.01176471, -0.00392157, -0.03414902, -0.02630588, -0.01061961,\n",
       "        -0.00277647,  0.00506667,  0.02859608,  0.03643922]),\n",
       " array([-0.03092863,  0.0124844 , -0.01844423, -0.04341303,  0.09411765,\n",
       "        -0.08235294, -0.05882353, -0.04313725, -0.02745098, -0.01960784,\n",
       "        -0.00392157,  0.01176471, -0.05142431, -0.0278949 , -0.01220863,\n",
       "         0.00347765,  0.01132078,  0.02700706,  0.04269333]),\n",
       " array([-0.02527373,  0.01135863, -0.01391509, -0.03663236,  0.07058824,\n",
       "        -0.05882353, -0.05098039, -0.03529412, -0.02745098, -0.01960784,\n",
       "        -0.00392157,  0.01176471, -0.0335498 , -0.02570667, -0.01002039,\n",
       "        -0.00217725,  0.00566588,  0.02135216,  0.03703843]),\n",
       " array([-0.0248    ,  0.01155097, -0.01324903, -0.03635097,  0.07058824,\n",
       "        -0.05882353, -0.05098039, -0.03529412, -0.02745098, -0.01960784,\n",
       "         0.00392157,  0.01176471, -0.03402353, -0.02618039, -0.01049412,\n",
       "        -0.00265098,  0.00519216,  0.02872157,  0.03656471]),\n",
       " array([-0.00342745,  0.0119378 ,  0.00851035, -0.01536525,  0.07843137,\n",
       "        -0.04313725, -0.02745098, -0.01176471, -0.00392157,  0.00392157,\n",
       "         0.01960784,  0.03529412, -0.0397098 , -0.02402353, -0.00833725,\n",
       "        -0.00049412,  0.00734902,  0.02303529,  0.03872157]),\n",
       " array([ 0.00272314,  0.01092715,  0.01365029, -0.00820402,  0.07843137,\n",
       "        -0.03529412, -0.01960784, -0.00392157,  0.00392157,  0.01176471,\n",
       "         0.02745098,  0.04313725, -0.03801725, -0.02233098, -0.00664471,\n",
       "         0.00119843,  0.00904157,  0.02472784,  0.04041412]),\n",
       " array([ 0.01558745,  0.01233528,  0.02792273,  0.00325217,  0.07843137,\n",
       "        -0.01960784, -0.01176471,  0.00392157,  0.01176471,  0.02745098,\n",
       "         0.04313725,  0.05882353, -0.03519529, -0.02735216, -0.01166588,\n",
       "        -0.00382275,  0.01186353,  0.0275498 ,  0.04323608]),\n",
       " array([ 0.02803137,  0.01079081,  0.03882218,  0.01724057,  0.0627451 ,\n",
       "        -0.00392157,  0.00392157,  0.01960784,  0.02745098,  0.03529412,\n",
       "         0.05098039,  0.05882353, -0.03195294, -0.0241098 , -0.00842353,\n",
       "        -0.00058039,  0.00726275,  0.02294902,  0.03079216]),\n",
       " array([ 0.02652706,  0.01091834,  0.0374454 ,  0.01560872,  0.07058824,\n",
       "        -0.01176471,  0.00392157,  0.01960784,  0.02745098,  0.03529412,\n",
       "         0.05098039,  0.05882353, -0.03829176, -0.02260549, -0.00691922,\n",
       "         0.00092392,  0.00876706,  0.02445333,  0.03229647]),\n",
       " array([ 0.03033255,  0.0111638 ,  0.04149635,  0.01916875,  0.07058824,\n",
       "        -0.00392157,  0.00392157,  0.01960784,  0.02745098,  0.03529412,\n",
       "         0.05882353,  0.06666667, -0.03425412, -0.02641098, -0.01072471,\n",
       "        -0.00288157,  0.00496157,  0.02849098,  0.03633412]),\n",
       " array([ 0.02866039,  0.01088476,  0.03954515,  0.01777563,  0.0627451 ,\n",
       "        -0.00392157,  0.00392157,  0.01960784,  0.02745098,  0.03529412,\n",
       "         0.05098039,  0.05882353, -0.03258196, -0.02473882, -0.00905255,\n",
       "        -0.00120941,  0.00663373,  0.02232   ,  0.03016314]),\n",
       " array([ 0.03171765,  0.01094463,  0.04266228,  0.02077302,  0.07843137,\n",
       "        -0.01176471,  0.00392157,  0.02745098,  0.03529412,  0.04313725,\n",
       "         0.05882353,  0.06666667, -0.04348235, -0.02779608, -0.00426667,\n",
       "         0.00357647,  0.01141961,  0.02710588,  0.03494902]),\n",
       " array([ 0.03782588,  0.01097084,  0.04879672,  0.02685504,  0.07843137,\n",
       "        -0.00392157,  0.01176471,  0.02745098,  0.03529412,  0.04313725,\n",
       "         0.05882353,  0.0745098 , -0.04174745, -0.02606118, -0.0103749 ,\n",
       "        -0.00253176,  0.00531137,  0.02099765,  0.03668392]),\n",
       " array([ 0.04388078,  0.01117976,  0.05506054,  0.03270103,  0.07058824,\n",
       "         0.01176471,  0.01960784,  0.03529412,  0.04313725,  0.05098039,\n",
       "         0.06666667,  0.08235294, -0.03211608, -0.02427294, -0.00858667,\n",
       "        -0.00074353,  0.00709961,  0.02278588,  0.03847216]),\n",
       " array([ 0.05501804,  0.01118297,  0.06620101,  0.04383507,  0.07058824,\n",
       "         0.01960784,  0.02745098,  0.05098039,  0.05882353,  0.06666667,\n",
       "         0.08235294,  0.09019608, -0.0354102 , -0.02756706, -0.00403765,\n",
       "         0.00380549,  0.01164863,  0.0273349 ,  0.03517804]),\n",
       " array([ 0.06267608,  0.01075597,  0.07343204,  0.05192011,  0.07058824,\n",
       "         0.02745098,  0.04313725,  0.05882353,  0.05882353,  0.06666667,\n",
       "         0.08235294,  0.09803922, -0.0352251 , -0.01953882, -0.00385255,\n",
       "        -0.00385255,  0.00399059,  0.01967686,  0.03536314]),\n",
       " array([ 0.06473255,  0.0106602 ,  0.07539275,  0.05407235,  0.07058824,\n",
       "         0.02745098,  0.04313725,  0.05882353,  0.06666667,  0.0745098 ,\n",
       "         0.09019608,  0.09803922, -0.03728157, -0.02159529, -0.00590902,\n",
       "         0.00193412,  0.00977725,  0.02546353,  0.03330667]),\n",
       " array([ 0.06704314,  0.01061018,  0.07765332,  0.05643296,  0.07058824,\n",
       "         0.03529412,  0.04313725,  0.05882353,  0.06666667,  0.0745098 ,\n",
       "         0.09019608,  0.10588235, -0.03174902, -0.02390588, -0.00821961,\n",
       "        -0.00037647,  0.00746667,  0.02315294,  0.03883922]),\n",
       " array([ 0.0654698 ,  0.01070491,  0.07617471,  0.0547649 ,  0.07843137,\n",
       "         0.02745098,  0.04313725,  0.05882353,  0.06666667,  0.0745098 ,\n",
       "         0.09019608,  0.10588235, -0.03801882, -0.02233255, -0.00664627,\n",
       "         0.00119686,  0.00904   ,  0.02472627,  0.04041255]),\n",
       " array([ 0.06868392,  0.01154802,  0.08023194,  0.0571359 ,  0.07058824,\n",
       "         0.03529412,  0.04313725,  0.05882353,  0.06666667,  0.0745098 ,\n",
       "         0.09803922,  0.10588235, -0.0333898 , -0.02554667, -0.00986039,\n",
       "        -0.00201725,  0.00582588,  0.02935529,  0.03719843]),\n",
       " array([ 0.07667294,  0.01097066,  0.0876436 ,  0.06570229,  0.07058824,\n",
       "         0.04313725,  0.05098039,  0.06666667,  0.0745098 ,  0.08235294,\n",
       "         0.09803922,  0.11372549, -0.03353569, -0.02569255, -0.01000627,\n",
       "        -0.00216314,  0.00568   ,  0.02136627,  0.03705255]),\n",
       " array([ 0.07487686,  0.01132411,  0.08620097,  0.06355276,  0.08627451,\n",
       "         0.02745098,  0.05098039,  0.06666667,  0.0745098 ,  0.08235294,\n",
       "         0.09803922,  0.11372549, -0.04742588, -0.02389647, -0.0082102 ,\n",
       "        -0.00036706,  0.00747608,  0.02316235,  0.03884863]),\n",
       " array([ 0.07928784,  0.01124304,  0.09053088,  0.0680448 ,  0.07058824,\n",
       "         0.04313725,  0.05098039,  0.0745098 ,  0.08235294,  0.09019608,\n",
       "         0.10588235,  0.11372549, -0.03615059, -0.02830745, -0.00477804,\n",
       "         0.0030651 ,  0.01090824,  0.02659451,  0.03443765]),\n",
       " array([ 0.08022745,  0.01143696,  0.09166441,  0.06879049,  0.07843137,\n",
       "         0.03529412,  0.05098039,  0.0745098 ,  0.08235294,  0.09019608,\n",
       "         0.10588235,  0.11372549, -0.04493333, -0.02924706, -0.00571765,\n",
       "         0.00212549,  0.00996863,  0.0256549 ,  0.03349804]),\n",
       " array([ 0.07796549,  0.01125287,  0.08921837,  0.06671262,  0.07058824,\n",
       "         0.04313725,  0.05098039,  0.06666667,  0.0745098 ,  0.08235294,\n",
       "         0.10588235,  0.11372549, -0.03482824, -0.0269851 , -0.01129882,\n",
       "        -0.00345569,  0.00438745,  0.02791686,  0.03576   ]),\n",
       " array([ 0.08495686,  0.01144292,  0.09639979,  0.07351394,  0.07843137,\n",
       "         0.04313725,  0.05882353,  0.0745098 ,  0.08235294,  0.09019608,\n",
       "         0.11372549,  0.12156863, -0.04181961, -0.02613333, -0.01044706,\n",
       "        -0.00260392,  0.00523922,  0.02876863,  0.03661176]),\n",
       " array([ 0.08442039,  0.0114857 ,  0.09590609,  0.0729347 ,  0.1254902 ,\n",
       "         0.00392157,  0.05882353,  0.0745098 ,  0.08235294,  0.09019608,\n",
       "         0.11372549,  0.12941176, -0.08049882, -0.02559686, -0.00991059,\n",
       "        -0.00206745,  0.00577569,  0.0293051 ,  0.04499137]),\n",
       " array([ 8.62462745e-02,  1.14273503e-02,  9.76736248e-02,  7.48189242e-02,\n",
       "         7.84313725e-02,  4.31372549e-02,  5.88235294e-02,  8.23529412e-02,\n",
       "         8.62745098e-02,  9.01960784e-02,  1.13725490e-01,  1.21568627e-01,\n",
       "        -4.31090196e-02, -2.74227451e-02, -3.89333333e-03,  2.82352941e-05,\n",
       "         3.94980392e-03,  2.74792157e-02,  3.53223529e-02]),\n",
       " array([ 0.09418353,  0.01152798,  0.1057115 ,  0.08265555,  0.07843137,\n",
       "         0.05882353,  0.06666667,  0.09019608,  0.09803922,  0.10588235,\n",
       "         0.12156863,  0.1372549 , -0.03536   , -0.02751686, -0.00398745,\n",
       "         0.00385569,  0.01169882,  0.0273851 ,  0.04307137]),\n",
       " array([ 0.09996863,  0.01145933,  0.11142796,  0.08850929,  0.08627451,\n",
       "         0.05882353,  0.0745098 ,  0.09019608,  0.09803922,  0.10588235,\n",
       "         0.12941176,  0.14509804, -0.0411451 , -0.02545882, -0.00977255,\n",
       "        -0.00192941,  0.00591373,  0.02944314,  0.04512941]),\n",
       " array([ 0.10792471,  0.01206892,  0.11999362,  0.09585579,  0.07843137,\n",
       "         0.06666667,  0.08235294,  0.09803922,  0.10588235,  0.11372549,\n",
       "         0.1372549 ,  0.14509804, -0.04125804, -0.02557176, -0.00988549,\n",
       "        -0.00204235,  0.00580078,  0.0293302 ,  0.03717333]),\n",
       " array([ 0.11603608,  0.01189334,  0.12792942,  0.10414274,  0.09411765,\n",
       "         0.06666667,  0.09019608,  0.10588235,  0.11372549,  0.12156863,\n",
       "         0.14509804,  0.16078431, -0.04936941, -0.02584   , -0.01015373,\n",
       "        -0.00231059,  0.00553255,  0.02906196,  0.04474824]),\n",
       " array([ 1.21491765e-01,  1.20421544e-02,  1.33533919e-01,  1.09449610e-01,\n",
       "         8.62745098e-02,  7.45098039e-02,  9.01960784e-02,  1.13725490e-01,\n",
       "         1.21568627e-01,  1.29411765e-01,  1.52941176e-01,  1.60784314e-01,\n",
       "        -4.69819608e-02, -3.12956863e-02, -7.76627451e-03,  7.68627451e-05,\n",
       "         7.92000000e-03,  3.14494118e-02,  3.92925490e-02]),\n",
       " array([ 0.13007216,  0.01244766,  0.14251982,  0.11762449,  0.10196078,\n",
       "         0.0745098 ,  0.09803922,  0.12156863,  0.12941176,  0.1372549 ,\n",
       "         0.16078431,  0.17647059, -0.05556235, -0.03203294, -0.00850353,\n",
       "        -0.00066039,  0.00718275,  0.03071216,  0.04639843]),\n",
       " array([ 0.13282353,  0.01216029,  0.14498382,  0.12066324,  0.08627451,\n",
       "         0.09019608,  0.10588235,  0.12156863,  0.12941176,  0.1372549 ,\n",
       "         0.16078431,  0.17647059, -0.04262745, -0.02694118, -0.0112549 ,\n",
       "        -0.00341176,  0.00443137,  0.02796078,  0.04364706]),\n",
       " array([ 0.13163922,  0.01296632,  0.14460554,  0.11867289,  0.14117647,\n",
       "         0.04313725,  0.09803922,  0.12156863,  0.12941176,  0.1372549 ,\n",
       "         0.16078431,  0.18431373, -0.08850196, -0.0336    , -0.01007059,\n",
       "        -0.00222745,  0.00561569,  0.0291451 ,  0.05267451]),\n",
       " array([ 0.1345051 ,  0.01227688,  0.14678197,  0.12222822,  0.10196078,\n",
       "         0.09019608,  0.10588235,  0.12941176,  0.1372549 ,  0.14509804,\n",
       "         0.16078431,  0.19215686, -0.04430902, -0.02862275, -0.00509333,\n",
       "         0.0027498 ,  0.01059294,  0.02627922,  0.05765176]),\n",
       " array([ 0.13143843,  0.01251893,  0.14395736,  0.1189195 ,  0.09411765,\n",
       "         0.08235294,  0.10588235,  0.12156863,  0.12941176,  0.1372549 ,\n",
       "         0.16078431,  0.17647059, -0.04908549, -0.02555608, -0.0098698 ,\n",
       "        -0.00202667,  0.00581647,  0.02934588,  0.04503216]),\n",
       " array([ 0.1303749 ,  0.01227698,  0.14265188,  0.11809792,  0.10196078,\n",
       "         0.0745098 ,  0.10588235,  0.12156863,  0.12941176,  0.1372549 ,\n",
       "         0.16078431,  0.17647059, -0.0558651 , -0.02449255, -0.00880627,\n",
       "        -0.00096314,  0.00688   ,  0.03040941,  0.04609569]),\n",
       " array([ 0.12983843,  0.01180931,  0.14164774,  0.11802912,  0.10196078,\n",
       "         0.06666667,  0.10588235,  0.12156863,  0.12941176,  0.1372549 ,\n",
       "         0.15301961,  0.16862745, -0.06317176, -0.02395608, -0.0082698 ,\n",
       "        -0.00042667,  0.00741647,  0.02318118,  0.03878902]),\n",
       " array([ 0.12766431,  0.01171652,  0.13938083,  0.11594779,  0.07843137,\n",
       "         0.09019608,  0.10588235,  0.12156863,  0.12941176,  0.1372549 ,\n",
       "         0.15294118,  0.16862745, -0.03746824, -0.02178196, -0.00609569,\n",
       "         0.00174745,  0.00959059,  0.02527686,  0.04096314]),\n",
       " array([ 0.1282149 ,  0.0113108 ,  0.1395257 ,  0.1169041 ,  0.08627451,\n",
       "         0.08235294,  0.10588235,  0.12156863,  0.12941176,  0.1372549 ,\n",
       "         0.15294118,  0.16862745, -0.04586196, -0.02233255, -0.00664627,\n",
       "         0.00119686,  0.00904   ,  0.02472627,  0.04041255]),\n",
       " array([ 0.1274698 ,  0.01163202,  0.13910182,  0.11583778,  0.08627451,\n",
       "         0.0745098 ,  0.10588235,  0.12156863,  0.12941176,  0.1372549 ,\n",
       "         0.15294118,  0.16078431, -0.05296   , -0.02158745, -0.00590118,\n",
       "         0.00194196,  0.0097851 ,  0.02547137,  0.03331451]),\n",
       " array([ 0.1255702 ,  0.01135798,  0.13692817,  0.11421222,  0.07843137,\n",
       "         0.08235294,  0.09803922,  0.12156863,  0.12941176,  0.1372549 ,\n",
       "         0.15294118,  0.16078431, -0.04321725, -0.02753098, -0.00400157,\n",
       "         0.00384157,  0.01168471,  0.02737098,  0.03521412]),\n",
       " array([ 0.12454588,  0.01177609,  0.13632197,  0.1127698 ,  0.1254902 ,\n",
       "         0.05098039,  0.09803922,  0.11372549,  0.12156863,  0.12941176,\n",
       "         0.15294118,  0.17647059, -0.07356549, -0.02650667, -0.01082039,\n",
       "        -0.00297725,  0.00486588,  0.02839529,  0.05192471]),\n",
       " array([ 0.12289725,  0.01184797,  0.13474522,  0.11104929,  0.18039216,\n",
       "         0.00392157,  0.09803922,  0.11372549,  0.12156863,  0.12941176,\n",
       "         0.15294118,  0.18431373, -0.11897569, -0.02485804, -0.00917176,\n",
       "        -0.00132863,  0.00651451,  0.03004392,  0.06141647]),\n",
       " array([ 0.12309176,  0.01195391,  0.13504567,  0.11113786,  0.07843137,\n",
       "         0.08235294,  0.09803922,  0.11372549,  0.12156863,  0.12941176,\n",
       "         0.15294118,  0.16078431, -0.04073882, -0.02505255, -0.00936627,\n",
       "        -0.00152314,  0.00632   ,  0.02984941,  0.03769255]),\n",
       " array([ 0.12631216,  0.01178004,  0.13809219,  0.11453212,  0.08627451,\n",
       "         0.08235294,  0.09803922,  0.12156863,  0.12941176,  0.1372549 ,\n",
       "         0.15294118,  0.16862745, -0.04395922, -0.02827294, -0.00474353,\n",
       "         0.00309961,  0.01094275,  0.02662902,  0.04231529]),\n",
       " array([ 0.12270588,  0.01179924,  0.13450512,  0.11090665,  0.1254902 ,\n",
       "         0.05882353,  0.09803922,  0.11372549,  0.12156863,  0.12941176,\n",
       "         0.15294118,  0.18431373, -0.06388235, -0.02466667, -0.00898039,\n",
       "        -0.00113725,  0.00670588,  0.03023529,  0.06160784]),\n",
       " array([ 0.12031686,  0.01174423,  0.1320611 ,  0.10857263,  0.10980392,\n",
       "         0.05882353,  0.09803922,  0.11372549,  0.12156863,  0.12941176,\n",
       "         0.14509804,  0.16862745, -0.06149333, -0.02227765, -0.00659137,\n",
       "         0.00125176,  0.0090949 ,  0.02478118,  0.04831059]),\n",
       " array([ 0.12051765,  0.01163982,  0.13215747,  0.10887783,  0.11764706,\n",
       "         0.05098039,  0.09019608,  0.11372549,  0.12156863,  0.12941176,\n",
       "         0.14509804,  0.16862745, -0.06953725, -0.03032157, -0.00679216,\n",
       "         0.00105098,  0.00889412,  0.02458039,  0.0481098 ]),\n",
       " array([ 0.11788235,  0.01188425,  0.12976661,  0.1059981 ,  0.08627451,\n",
       "         0.0745098 ,  0.09019608,  0.11372549,  0.12156863,  0.12941176,\n",
       "         0.14509804,  0.16078431, -0.04337255, -0.02768627, -0.00415686,\n",
       "         0.00368627,  0.01152941,  0.02721569,  0.04290196]),\n",
       " array([ 0.11591216,  0.01151286,  0.12742502,  0.10439929,  0.13333333,\n",
       "         0.05098039,  0.09019608,  0.10588235,  0.11372549,  0.12156863,\n",
       "         0.14509804,  0.18431373, -0.06493176, -0.02571608, -0.0100298 ,\n",
       "        -0.00218667,  0.00565647,  0.02918588,  0.06840157]),\n",
       " array([ 0.11936314,  0.01142988,  0.13079302,  0.10793326,  0.11764706,\n",
       "         0.05098039,  0.09019608,  0.11372549,  0.12156863,  0.12941176,\n",
       "         0.14509804,  0.16862745, -0.06838275, -0.02916706, -0.00563765,\n",
       "         0.00220549,  0.01004863,  0.0257349 ,  0.04926431]),\n",
       " array([ 0.11627765,  0.01209062,  0.12836827,  0.10418702,  0.10980392,\n",
       "         0.05098039,  0.09019608,  0.10588235,  0.11372549,  0.12156863,\n",
       "         0.14509804,  0.16078431, -0.06529725, -0.02608157, -0.01039529,\n",
       "        -0.00255216,  0.00529098,  0.02882039,  0.04450667]),\n",
       " array([ 0.11577882,  0.01276334,  0.12854217,  0.10301548,  0.14117647,\n",
       "         0.05098039,  0.09019608,  0.10588235,  0.11372549,  0.12156863,\n",
       "         0.14509804,  0.19215686, -0.06479843, -0.02558275, -0.00989647,\n",
       "        -0.00205333,  0.0057898 ,  0.02931922,  0.07637804]),\n",
       " array([ 0.11827137,  0.01301823,  0.1312896 ,  0.10525315,  0.08627451,\n",
       "         0.0745098 ,  0.09019608,  0.11372549,  0.12156863,  0.12941176,\n",
       "         0.15294118,  0.16078431, -0.04376157, -0.02807529, -0.00454588,\n",
       "         0.00329725,  0.01114039,  0.0346698 ,  0.04251294]),\n",
       " array([ 0.1088298 ,  0.01255952,  0.12138933,  0.09627028,  0.10196078,\n",
       "         0.05882353,  0.08235294,  0.09803922,  0.10588235,  0.11372549,\n",
       "         0.1372549 ,  0.16078431, -0.05000627, -0.02647686, -0.01079059,\n",
       "        -0.00294745,  0.00489569,  0.0284251 ,  0.05195451]),\n",
       " array([ 0.10926118,  0.01248148,  0.12174266,  0.0967797 ,  0.15686275,\n",
       "         0.03529412,  0.08235294,  0.09803922,  0.10588235,  0.11372549,\n",
       "         0.1372549 ,  0.19215686, -0.07396706, -0.02690824, -0.01122196,\n",
       "        -0.00337882,  0.00446431,  0.02799373,  0.08289569]),\n",
       " array([ 0.10743373,  0.01276097,  0.12019469,  0.09467276,  0.09411765,\n",
       "         0.05882353,  0.0745098 ,  0.09803922,  0.10588235,  0.11372549,\n",
       "         0.1372549 ,  0.15294118, -0.0486102 , -0.03292392, -0.00939451,\n",
       "        -0.00155137,  0.00629176,  0.02982118,  0.04550745]),\n",
       " array([ 0.10220392,  0.01220187,  0.11440579,  0.09000205,  0.10196078,\n",
       "         0.05098039,  0.0745098 ,  0.09803922,  0.10588235,  0.11372549,\n",
       "         0.12941176,  0.15294118, -0.05122353, -0.02769412, -0.00416471,\n",
       "         0.00367843,  0.01152157,  0.02720784,  0.05073725]),\n",
       " array([ 0.10342275,  0.01223666,  0.1156594 ,  0.09118609,  0.10980392,\n",
       "         0.04313725,  0.0745098 ,  0.09803922,  0.10588235,  0.11372549,\n",
       "         0.12941176,  0.15294118, -0.06028549, -0.02891294, -0.00538353,\n",
       "         0.00245961,  0.01030275,  0.02598902,  0.04951843]),\n",
       " array([ 0.09954824,  0.01168029,  0.11122852,  0.08786795,  0.09411765,\n",
       "         0.05098039,  0.0745098 ,  0.09019608,  0.09803922,  0.10588235,\n",
       "         0.12941176,  0.14509804, -0.04856784, -0.02503843, -0.00935216,\n",
       "        -0.00150902,  0.00633412,  0.02986353,  0.0455498 ]),\n",
       " array([ 0.09754667,  0.01174614,  0.10929281,  0.08580053,  0.09411765,\n",
       "         0.05098039,  0.06666667,  0.09019608,  0.09803922,  0.10588235,\n",
       "         0.12156863,  0.14509804, -0.04656627, -0.03088   , -0.00735059,\n",
       "         0.00049255,  0.00833569,  0.02402196,  0.04755137]),\n",
       " array([ 0.09211608,  0.0117357 ,  0.10385178,  0.08038037,  0.08627451,\n",
       "         0.05098039,  0.06666667,  0.08235294,  0.09019608,  0.09803922,\n",
       "         0.12156863,  0.1372549 , -0.04113569, -0.02544941, -0.00976314,\n",
       "        -0.00192   ,  0.00592314,  0.02945255,  0.04513882]),\n",
       " array([ 0.08322353,  0.0114722 ,  0.09469573,  0.07175133,  0.09411765,\n",
       "         0.02745098,  0.05882353,  0.0745098 ,  0.08235294,  0.09019608,\n",
       "         0.10588235,  0.12156863, -0.05577255, -0.0244    , -0.00871373,\n",
       "        -0.00087059,  0.00697255,  0.02265882,  0.0383451 ]),\n",
       " array([ 0.07940549,  0.01136956,  0.09077505,  0.06803593,  0.07843137,\n",
       "         0.04313725,  0.05098039,  0.0745098 ,  0.08235294,  0.09019608,\n",
       "         0.10588235,  0.12156863, -0.03626824, -0.0284251 , -0.00489569,\n",
       "         0.00294745,  0.01079059,  0.02647686,  0.04216314]),\n",
       " array([ 0.0732502 ,  0.01163444,  0.08488463,  0.06161576,  0.07843137,\n",
       "         0.03529412,  0.05090196,  0.06666667,  0.0745098 ,  0.08235294,\n",
       "         0.09803922,  0.11372549, -0.03795608, -0.02234824, -0.00658353,\n",
       "         0.00125961,  0.00910275,  0.02478902,  0.04047529]),\n",
       " array([ 0.06464941,  0.01154376,  0.07619317,  0.05310565,  0.07843137,\n",
       "         0.02745098,  0.03529412,  0.05882353,  0.06666667,  0.0745098 ,\n",
       "         0.09019608,  0.10588235, -0.03719843, -0.02935529, -0.00582588,\n",
       "         0.00201725,  0.00986039,  0.02554667,  0.04123294]),\n",
       " array([ 5.87639216e-02,  1.11293674e-02,  6.98932890e-02,  4.76345542e-02,\n",
       "         7.84313725e-02,  1.96078431e-02,  3.52941176e-02,  5.09803922e-02,\n",
       "         5.88235294e-02,  6.66666667e-02,  8.23529412e-02,  9.80392157e-02,\n",
       "        -3.91560784e-02, -2.34698039e-02, -7.78352941e-03,  5.96078431e-05,\n",
       "         7.90274510e-03,  2.35890196e-02,  3.92752941e-02]),\n",
       " array([ 0.05396078,  0.01121324,  0.06517403,  0.04274754,  0.07843137,\n",
       "         0.01960784,  0.02745098,  0.04313725,  0.05098039,  0.05882353,\n",
       "         0.08235294,  0.09803922, -0.03435294, -0.0265098 , -0.01082353,\n",
       "        -0.00298039,  0.00486275,  0.02839216,  0.04407843]),\n",
       " array([ 5.10415686e-02,  1.12015463e-02,  6.22431149e-02,  3.98400223e-02,\n",
       "         7.84313725e-02,  1.17647059e-02,  2.74509804e-02,  4.31372549e-02,\n",
       "         5.09803922e-02,  5.88235294e-02,  7.45098039e-02,  9.01960784e-02,\n",
       "        -3.92768627e-02, -2.35905882e-02, -7.90431373e-03, -6.11764706e-05,\n",
       "         7.78196078e-03,  2.34682353e-02,  3.91545098e-02]),\n",
       " array([ 0.04766118,  0.01133468,  0.05899585,  0.0363265 ,  0.07843137,\n",
       "         0.01176471,  0.01960784,  0.04313725,  0.05098039,  0.05882353,\n",
       "         0.0745098 ,  0.09019608, -0.03589647, -0.02805333, -0.00452392,\n",
       "         0.00331922,  0.01116235,  0.02684863,  0.0425349 ]),\n",
       " array([ 0.04112784,  0.01118292,  0.05231076,  0.02994493,  0.07058824,\n",
       "         0.00392157,  0.01960784,  0.03529412,  0.04313725,  0.05098039,\n",
       "         0.06666667,  0.0745098 , -0.03720627, -0.02152   , -0.00583373,\n",
       "         0.00200941,  0.00985255,  0.02553882,  0.03338196]),\n",
       " array([ 0.0422651 ,  0.0110964 ,  0.0533615 ,  0.03116869,  0.07843137,\n",
       "         0.00392157,  0.01960784,  0.03529412,  0.04313725,  0.05098039,\n",
       "         0.06666667,  0.08235294, -0.03834353, -0.02265725, -0.00697098,\n",
       "         0.00087216,  0.00871529,  0.02440157,  0.04008784]),\n",
       " array([ 0.04220549,  0.01132214,  0.05352763,  0.03088335,  0.07843137,\n",
       "         0.00392157,  0.01960784,  0.03529412,  0.04313725,  0.05098039,\n",
       "         0.06666667,  0.08235294, -0.03828392, -0.02259765, -0.00691137,\n",
       "         0.00093176,  0.0087749 ,  0.02446118,  0.04014745]),\n",
       " array([ 0.0332549 ,  0.01087452,  0.04412942,  0.02238039,  0.0627451 ,\n",
       "         0.00392157,  0.01176471,  0.02745098,  0.03529412,  0.04313725,\n",
       "         0.05882353,  0.06666667, -0.02933333, -0.0214902 , -0.00580392,\n",
       "         0.00203922,  0.00988235,  0.02556863,  0.03341176]),\n",
       " array([ 0.0362651 ,  0.01094016,  0.04720526,  0.02532494,  0.07058824,\n",
       "        -0.00392157,  0.01176471,  0.02745098,  0.03529412,  0.04313725,\n",
       "         0.05882353,  0.06666667, -0.04018667, -0.02450039, -0.00881412,\n",
       "        -0.00097098,  0.00687216,  0.02255843,  0.03040157]),\n",
       " array([ 0.02794824,  0.01195621,  0.03990444,  0.01599203,  0.07843137,\n",
       "        -0.01176471,  0.00392157,  0.01960784,  0.02745098,  0.03529412,\n",
       "         0.05098039,  0.06666667, -0.03971294, -0.02402667, -0.00834039,\n",
       "        -0.00049725,  0.00734588,  0.02303216,  0.03871843]),\n",
       " array([ 0.01680157,  0.01052425,  0.02732582,  0.00627732,  0.0627451 ,\n",
       "        -0.01176471, -0.00392157,  0.01176471,  0.01960784,  0.02745098,\n",
       "         0.04313725,  0.05098039, -0.02856627, -0.02072314, -0.00503686,\n",
       "         0.00280627,  0.01064941,  0.02633569,  0.03417882]),\n",
       " array([ 0.02420706,  0.01091105,  0.03511811,  0.01329601,  0.07058824,\n",
       "        -0.01176471,  0.00392157,  0.01960784,  0.02745098,  0.03529412,\n",
       "         0.05098039,  0.05882353, -0.03597176, -0.02028549, -0.00459922,\n",
       "         0.00324392,  0.01108706,  0.02677333,  0.03461647]),\n",
       " array([ 0.01406902,  0.01157366,  0.02564268,  0.00249536,  0.07058824,\n",
       "        -0.01960784, -0.01176471,  0.00392157,  0.01176471,  0.01960784,\n",
       "         0.04313725,  0.05098039, -0.03367686, -0.02583373, -0.01014745,\n",
       "        -0.00230431,  0.00553882,  0.02906824,  0.03691137]),\n",
       " array([ 1.09756863e-02,  1.10698820e-02,  2.20455683e-02, -9.41957103e-05,\n",
       "         7.05882353e-02, -1.96078431e-02, -1.17647059e-02,  3.92156863e-03,\n",
       "         1.17647059e-02,  1.96078431e-02,  3.52941176e-02,  5.09803922e-02,\n",
       "        -3.05835294e-02, -2.27403922e-02, -7.05411765e-03,  7.89019608e-04,\n",
       "         8.63215686e-03,  2.43184314e-02,  4.00047059e-02]),\n",
       " array([ 0.00831686,  0.01165542,  0.01997229, -0.00333856,  0.07058824,\n",
       "        -0.02745098, -0.01960784,  0.00392157,  0.01176471,  0.01960784,\n",
       "         0.03529412,  0.04313725, -0.03576784, -0.02792471, -0.00439529,\n",
       "         0.00344784,  0.01129098,  0.02697725,  0.03482039]),\n",
       " array([-0.01108706,  0.01173272,  0.00064566, -0.02281978,  0.07843137,\n",
       "        -0.04313725, -0.03529412, -0.01960784, -0.01176471, -0.00392157,\n",
       "         0.01176471,  0.03529412, -0.0320502 , -0.02420706, -0.00852078,\n",
       "        -0.00067765,  0.00716549,  0.02285176,  0.04638118]),\n",
       " array([-0.01769725,  0.01101131, -0.00668594, -0.02870857,  0.07058824,\n",
       "        -0.05098039, -0.04313725, -0.02745098, -0.01960784, -0.01176471,\n",
       "         0.00392157,  0.01960784, -0.03328314, -0.02544   , -0.00975373,\n",
       "        -0.00191059,  0.00593255,  0.02161882,  0.0373051 ]),\n",
       " array([-0.03006745,  0.01197814, -0.01808932, -0.04204559,  0.07058824,\n",
       "        -0.06666667, -0.05882353, -0.03529412, -0.02745098, -0.01960784,\n",
       "        -0.00392157,  0.00392157, -0.03659922, -0.02875608, -0.00522667,\n",
       "         0.00261647,  0.01045961,  0.02614588,  0.03398902]),\n",
       " array([-0.04239373,  0.01077052, -0.03162321, -0.05316424,  0.07843137,\n",
       "        -0.08235294, -0.06666667, -0.05098039, -0.04313725, -0.03529412,\n",
       "        -0.01960784, -0.00392157, -0.03995922, -0.02427294, -0.00858667,\n",
       "        -0.00074353,  0.00709961,  0.02278588,  0.03847216]),\n",
       " array([-0.04192   ,  0.01072386, -0.03119614, -0.05264386,  0.0627451 ,\n",
       "        -0.0745098 , -0.06666667, -0.05098039, -0.04313725, -0.03529412,\n",
       "        -0.01960784, -0.01176471, -0.0325898 , -0.02474667, -0.00906039,\n",
       "        -0.00121725,  0.00662588,  0.02231216,  0.03015529]),\n",
       " array([-0.04460706,  0.01097219, -0.03363487, -0.05557925,  0.07058824,\n",
       "        -0.08235294, -0.06666667, -0.05098039, -0.04313725, -0.03529412,\n",
       "        -0.01960784, -0.01176471, -0.03774588, -0.02205961, -0.00637333,\n",
       "         0.0014698 ,  0.00931294,  0.02499922,  0.03284235]),\n",
       " array([-0.04363451,  0.01082967, -0.03280484, -0.05446418,  0.0627451 ,\n",
       "        -0.0745098 , -0.06666667, -0.05098039, -0.04313725, -0.03529412,\n",
       "        -0.01960784, -0.01176471, -0.03087529, -0.02303216, -0.00734588,\n",
       "         0.00049725,  0.00834039,  0.02402667,  0.0318698 ]),\n",
       " array([-0.04716706,  0.01095628, -0.03621078, -0.05812333,  0.07058824,\n",
       "        -0.08235294, -0.0745098 , -0.05098039, -0.05098039, -0.04313725,\n",
       "        -0.01960784, -0.01176471, -0.03518588, -0.02734275, -0.00381333,\n",
       "        -0.00381333,  0.0040298 ,  0.02755922,  0.03540235]),\n",
       " array([-0.0535498 ,  0.01130689, -0.04224291, -0.0648567 ,  0.08627451,\n",
       "        -0.09019608, -0.08235294, -0.05882353, -0.05098039, -0.04313725,\n",
       "        -0.02745098, -0.00392157, -0.03664627, -0.02880314, -0.00527373,\n",
       "         0.00256941,  0.01041255,  0.02609882,  0.04962824]),\n",
       " array([-0.05978196,  0.01158796, -0.048194  , -0.07136992,  0.07843137,\n",
       "        -0.09803922, -0.08243137, -0.06666667, -0.05882353, -0.05098039,\n",
       "        -0.03529412, -0.01960784, -0.03825725, -0.02264941, -0.00688471,\n",
       "         0.00095843,  0.00880157,  0.02448784,  0.04017412]),\n",
       " array([-0.06969725,  0.01167426, -0.05802299, -0.08137152,  0.07058824,\n",
       "        -0.10588235, -0.09803922, -0.0745098 , -0.06666667, -0.05882353,\n",
       "        -0.04313725, -0.03529412, -0.0361851 , -0.02834196, -0.00481255,\n",
       "         0.00303059,  0.01087373,  0.02656   ,  0.03440314]),\n",
       " array([-0.07739451,  0.01113208, -0.06626243, -0.08852659,  0.08627451,\n",
       "        -0.12156863, -0.10588235, -0.08235294, -0.0745098 , -0.06666667,\n",
       "        -0.05098039, -0.03529412, -0.04417412, -0.02848784, -0.00495843,\n",
       "         0.00288471,  0.01072784,  0.02641412,  0.04210039]),\n",
       " array([-0.08017882,  0.01142297, -0.06875585, -0.09160179,  0.08627451,\n",
       "        -0.12156863, -0.10588235, -0.09019608, -0.08235294, -0.0745098 ,\n",
       "        -0.05098039, -0.03529412, -0.0413898 , -0.02570353, -0.01001725,\n",
       "        -0.00217412,  0.00566902,  0.02919843,  0.04488471]),\n",
       " array([-0.08169569,  0.01166815, -0.07002753, -0.09336384,  0.07843137,\n",
       "        -0.12156863, -0.10588235, -0.09019608, -0.08235294, -0.0745098 ,\n",
       "        -0.05882353, -0.04313725, -0.03987294, -0.02418667, -0.00850039,\n",
       "        -0.00065725,  0.00718588,  0.02287216,  0.03855843]),\n",
       " array([-0.08124235,  0.01152055, -0.0697218 , -0.09276291,  0.07843137,\n",
       "        -0.12156863, -0.10588235, -0.09019608, -0.08235294, -0.0745098 ,\n",
       "        -0.05882353, -0.04313725, -0.04032627, -0.02464   , -0.00895373,\n",
       "        -0.00111059,  0.00673255,  0.02241882,  0.0381051 ]),\n",
       " array([-0.08463216,  0.01148472, -0.07314743, -0.09611688,  0.07843137,\n",
       "        -0.12156863, -0.11372549, -0.09019608, -0.08235294, -0.0745098 ,\n",
       "        -0.05882353, -0.04313725, -0.03693647, -0.02909333, -0.00556392,\n",
       "         0.00227922,  0.01012235,  0.02580863,  0.0414949 ]),\n",
       " array([-0.09137725,  0.01135696, -0.0800203 , -0.10273421,  0.07843137,\n",
       "        -0.12941176, -0.11372549, -0.09803922, -0.09019608, -0.08235294,\n",
       "        -0.06666667, -0.05098039, -0.03803451, -0.02234824, -0.00666196,\n",
       "         0.00118118,  0.00902431,  0.02471059,  0.04039686]),\n",
       " array([-0.09110118,  0.01145342, -0.07964775, -0.1025546 ,  0.07843137,\n",
       "        -0.12941176, -0.11372549, -0.09803922, -0.09019608, -0.08235294,\n",
       "        -0.06666667, -0.05098039, -0.03831059, -0.02262431, -0.00693804,\n",
       "         0.0009051 ,  0.00874824,  0.02443451,  0.04012078]),\n",
       " array([-0.09615059,  0.0115442 , -0.08460638, -0.10769479,  0.08627451,\n",
       "        -0.1372549 , -0.12156863, -0.10588235, -0.09803922, -0.09019608,\n",
       "        -0.06666667, -0.05098039, -0.04110431, -0.02541804, -0.00973176,\n",
       "        -0.00188863,  0.00595451,  0.02948392,  0.0451702 ]),\n",
       " array([-0.09393098,  0.01158947, -0.08234151, -0.10552045,  0.07843137,\n",
       "        -0.12941176, -0.12156863, -0.09803922, -0.09019608, -0.08235294,\n",
       "        -0.06666667, -0.05098039, -0.03548078, -0.02763765, -0.00410824,\n",
       "         0.0037349 ,  0.01157804,  0.02726431,  0.04295059]),\n",
       " array([-0.09314353,  0.01142247, -0.08172106, -0.104566  ,  0.07058824,\n",
       "        -0.12941176, -0.12156863, -0.09803922, -0.09019608, -0.08235294,\n",
       "        -0.06666667, -0.05882353, -0.03626824, -0.0284251 , -0.00489569,\n",
       "         0.00294745,  0.01079059,  0.02647686,  0.03432   ]),\n",
       " array([-0.09999216,  0.01143115, -0.08856101, -0.11142331,  0.07843137,\n",
       "        -0.1372549 , -0.12156863, -0.10588235, -0.09803922, -0.09019608,\n",
       "        -0.0745098 , -0.05882353, -0.03726275, -0.02157647, -0.0058902 ,\n",
       "         0.00195294,  0.00979608,  0.02548235,  0.04116863]),\n",
       " array([-0.09893176,  0.01157623, -0.08735554, -0.11050799,  0.08627451,\n",
       "        -0.14509804, -0.12156863, -0.10588235, -0.09803922, -0.09019608,\n",
       "        -0.0745098 , -0.05882353, -0.04616627, -0.02263686, -0.00695059,\n",
       "         0.00089255,  0.00873569,  0.02442196,  0.04010824]),\n",
       " array([-0.10208314,  0.01130983, -0.09077331, -0.11339296,  0.07843137,\n",
       "        -0.1372549 , -0.12941176, -0.10588235, -0.10588235, -0.09803922,\n",
       "        -0.0745098 , -0.05882353, -0.03517176, -0.02732863, -0.00379922,\n",
       "        -0.00379922,  0.00404392,  0.02757333,  0.04325961]),\n",
       " array([-0.1090651 ,  0.01160033, -0.09746477, -0.12066542,  0.07843137,\n",
       "        -0.14509804, -0.1372549 , -0.11372549, -0.10588235, -0.09803922,\n",
       "        -0.08235294, -0.06666667, -0.03603294, -0.0281898 , -0.00466039,\n",
       "         0.00318275,  0.01102588,  0.02671216,  0.04239843]),\n",
       " array([-0.11537412,  0.01167458, -0.10369954, -0.1270487 ,  0.08627451,\n",
       "        -0.16078431, -0.13733333, -0.12156863, -0.11372549, -0.10588235,\n",
       "        -0.09019608, -0.0745098 , -0.0454102 , -0.02195922, -0.00619451,\n",
       "         0.00164863,  0.00949176,  0.02517804,  0.04086431]),\n",
       " array([-0.12342745,  0.01205014, -0.11137731, -0.13547759,  0.08627451,\n",
       "        -0.16862745, -0.15294118, -0.12941176, -0.12156863, -0.11372549,\n",
       "        -0.09803922, -0.08235294, -0.0452    , -0.02951373, -0.00598431,\n",
       "         0.00185882,  0.00970196,  0.02538824,  0.04107451]),\n",
       " array([-0.13116863,  0.01209548, -0.11907315, -0.14326411,  0.14117647,\n",
       "        -0.19215686, -0.16078431, -0.1372549 , -0.12941176, -0.12156863,\n",
       "        -0.10588235, -0.05098039, -0.06098824, -0.02961569, -0.00608627,\n",
       "         0.00175686,  0.0096    ,  0.02528627,  0.08018824]),\n",
       " array([-0.13797647,  0.01212726, -0.12584921, -0.15010373,  0.15686275,\n",
       "        -0.20784314, -0.16862745, -0.14509804, -0.1372549 , -0.12941176,\n",
       "        -0.11372549, -0.05098039, -0.06986667, -0.03065098, -0.00712157,\n",
       "         0.00072157,  0.00856471,  0.02425098,  0.08699608]),\n",
       " array([-0.14483294,  0.01194199, -0.13289095, -0.15677493,  0.16470588,\n",
       "        -0.20784314, -0.16862745, -0.15294118, -0.14509804, -0.1372549 ,\n",
       "        -0.1214902 , -0.04313725, -0.0630102 , -0.02379451, -0.00810824,\n",
       "        -0.0002651 ,  0.00757804,  0.02334275,  0.10169569]),\n",
       " array([-0.14755451,  0.01129063, -0.13626388, -0.15884514,  0.16470588,\n",
       "        -0.23921569, -0.16862745, -0.15294118, -0.14509804, -0.1372549 ,\n",
       "        -0.12156863, -0.0745098 , -0.09166118, -0.02107294, -0.00538667,\n",
       "         0.00245647,  0.01029961,  0.02598588,  0.07304471]),\n",
       " array([-0.14673725,  0.01148999, -0.13524726, -0.15822725,  0.14901961,\n",
       "        -0.22352941, -0.16862745, -0.15294118, -0.14509804, -0.1372549 ,\n",
       "        -0.12156863, -0.0745098 , -0.07679216, -0.0218902 , -0.00620392,\n",
       "         0.00163922,  0.00948235,  0.02516863,  0.07222745]),\n",
       " array([-0.14953882,  0.01103743, -0.1385014 , -0.16057625,  0.07843137,\n",
       "        -0.18431373, -0.17647059, -0.16078431, -0.15294118, -0.14509804,\n",
       "        -0.12156863, -0.10588235, -0.0347749 , -0.02693176, -0.01124549,\n",
       "        -0.00340235,  0.00444078,  0.0279702 ,  0.04365647]),\n",
       " array([-0.14787137,  0.01146868, -0.13640269, -0.15934005,  0.08627451,\n",
       "        -0.19215686, -0.17647059, -0.15294118, -0.14509804, -0.1372549 ,\n",
       "        -0.12156863, -0.10588235, -0.04428549, -0.02859922, -0.0050698 ,\n",
       "         0.00277333,  0.01061647,  0.02630275,  0.04198902]),\n",
       " array([-0.14546667,  0.01156012, -0.13390655, -0.15702678,  0.07058824,\n",
       "        -0.18431373, -0.16862745, -0.15294118, -0.14509804, -0.1372549 ,\n",
       "        -0.12156863, -0.11372549, -0.03884706, -0.02316078, -0.00747451,\n",
       "         0.00036863,  0.00821176,  0.02389804,  0.03174118]),\n",
       " array([-0.14414275,  0.0118289 , -0.13231385, -0.15597164,  0.08627451,\n",
       "        -0.18431373, -0.16862745, -0.15294118, -0.14509804, -0.1372549 ,\n",
       "        -0.12156863, -0.09803922, -0.04017098, -0.02448471, -0.00879843,\n",
       "        -0.00095529,  0.00688784,  0.02257412,  0.04610353]),\n",
       " array([-0.1435702 ,  0.0118577 , -0.1317125 , -0.15542789,  0.08627451,\n",
       "        -0.19215686, -0.16862745, -0.15294118, -0.14509804, -0.1372549 ,\n",
       "        -0.11372549, -0.10588235, -0.04858667, -0.02505725, -0.00937098,\n",
       "        -0.00152784,  0.00631529,  0.02984471,  0.03768784]),\n",
       " array([-0.14428706,  0.0116458 , -0.13264126, -0.15593286,  0.08627451,\n",
       "        -0.19215686, -0.16862745, -0.15294118, -0.14509804, -0.1372549 ,\n",
       "        -0.12156863, -0.10588235, -0.0478698 , -0.02434039, -0.00865412,\n",
       "        -0.00081098,  0.00703216,  0.02271843,  0.03840471]),\n",
       " array([-0.14304314,  0.01166862, -0.13137451, -0.15471176,  0.07843137,\n",
       "        -0.18431373, -0.16862745, -0.15294118, -0.14509804, -0.1372549 ,\n",
       "        -0.11372549, -0.10588235, -0.04127059, -0.02558431, -0.00989804,\n",
       "        -0.0020549 ,  0.00578824,  0.02931765,  0.03716078]),\n",
       " array([-0.14133176,  0.01160372, -0.12972804, -0.15293549,  0.08627451,\n",
       "        -0.18431373, -0.16862745, -0.15294118, -0.1372549 , -0.1372549 ,\n",
       "        -0.11372549, -0.09803922, -0.04298196, -0.02729569, -0.01160941,\n",
       "         0.00407686,  0.00407686,  0.02760627,  0.04329255]),\n",
       " array([-0.1414149 ,  0.01167316, -0.12974174, -0.15308806,  0.07843137,\n",
       "        -0.18431373, -0.16862745, -0.15294118, -0.14509804, -0.1372549 ,\n",
       "        -0.11372549, -0.10588235, -0.04289882, -0.02721255, -0.01152627,\n",
       "        -0.00368314,  0.00416   ,  0.02768941,  0.03553255]),\n",
       " array([-0.1402949 ,  0.0113717 , -0.1289232 , -0.1516666 ,  0.08627451,\n",
       "        -0.17647059, -0.16862745, -0.14509804, -0.1372549 , -0.12941176,\n",
       "        -0.11372549, -0.09019608, -0.03617569, -0.02833255, -0.00480314,\n",
       "         0.00304   ,  0.01088314,  0.02656941,  0.05009882]),\n",
       " array([-0.13977098,  0.01162248, -0.1281485 , -0.15139346,  0.18823529,\n",
       "        -0.20784314, -0.16862745, -0.14509804, -0.1372549 , -0.12941176,\n",
       "        -0.11372549, -0.01960784, -0.06807216, -0.02885647, -0.00532706,\n",
       "         0.00251608,  0.01035922,  0.02604549,  0.12016314]),\n",
       " array([-0.14267137,  0.01175979, -0.13091158, -0.15443117,  0.20392157,\n",
       "        -0.21568627, -0.16862745, -0.15294118, -0.14509804, -0.1372549 ,\n",
       "        -0.11372549, -0.01176471, -0.0730149 , -0.02595608, -0.0102698 ,\n",
       "        -0.00242667,  0.00541647,  0.02894588,  0.13090667]),\n",
       " array([-0.13944157,  0.01252542, -0.12691615, -0.15196699,  0.19607843,\n",
       "        -0.21568627, -0.16862745, -0.14509804, -0.1372549 , -0.12941176,\n",
       "        -0.11372549, -0.01960784, -0.07624471, -0.02918588, -0.00565647,\n",
       "         0.00218667,  0.0100298 ,  0.02571608,  0.11983373]),\n",
       " array([-0.13682667,  0.01298594, -0.12384073, -0.14981261,  0.16470588,\n",
       "        -0.18431373, -0.16862745, -0.14509804, -0.1372549 , -0.12941176,\n",
       "        -0.10588235, -0.01960784, -0.04748706, -0.03180078, -0.00827137,\n",
       "        -0.00042824,  0.0074149 ,  0.03094431,  0.11721882]),\n",
       " array([-0.13612549,  0.01273439, -0.1233911 , -0.14885988,  0.10196078,\n",
       "        -0.19215686, -0.16862745, -0.14509804, -0.1372549 , -0.12941176,\n",
       "        -0.10588235, -0.09019608, -0.05603137, -0.03250196, -0.00897255,\n",
       "        -0.00112941,  0.00671373,  0.03024314,  0.04592941]),\n",
       " array([-0.13282353,  0.01278289, -0.12004064, -0.14560641,  0.09411765,\n",
       "        -0.18431373, -0.16078431, -0.1372549 , -0.12941176, -0.12156863,\n",
       "        -0.10588235, -0.09019608, -0.0514902 , -0.02796078, -0.00443137,\n",
       "         0.00341176,  0.0112549 ,  0.02694118,  0.04262745]),\n",
       " array([-0.13052392,  0.01308711, -0.11743681, -0.14361104,  0.20392157,\n",
       "        -0.20784314, -0.16078431, -0.1372549 , -0.12941176, -0.12156863,\n",
       "        -0.09803922, -0.00392157, -0.07731922, -0.03026039, -0.00673098,\n",
       "         0.00111216,  0.00895529,  0.03248471,  0.12660235]),\n",
       " array([-0.13367686,  0.01281343, -0.12086343, -0.14649029,  0.13333333,\n",
       "        -0.2       , -0.16862745, -0.14509804, -0.1372549 , -0.12941176,\n",
       "        -0.10588235, -0.06666667, -0.06632314, -0.03495059, -0.01142118,\n",
       "        -0.00357804,  0.0042651 ,  0.02779451,  0.0670102 ]),\n",
       " array([-1.29523137e-01,  1.32791788e-02, -1.16243958e-01, -1.42802316e-01,\n",
       "         1.49019608e-01, -1.92156863e-01, -1.60784314e-01, -1.37254902e-01,\n",
       "        -1.29411765e-01, -1.21568627e-01, -9.80392157e-02, -4.31372549e-02,\n",
       "        -6.26337255e-02, -3.12611765e-02, -7.73176471e-03,  1.11372549e-04,\n",
       "         7.95450980e-03,  3.14839216e-02,  8.63858824e-02]),\n",
       " array([-0.12889098,  0.01324855, -0.11564243, -0.14213953,  0.14901961,\n",
       "        -0.2       , -0.16078431, -0.1372549 , -0.12941176, -0.12156863,\n",
       "        -0.09803922, -0.05098039, -0.07110902, -0.03189333, -0.00836392,\n",
       "        -0.00052078,  0.00732235,  0.03085176,  0.07791059]),\n",
       " array([-0.1336298 ,  0.0130147 , -0.12061511, -0.1466445 ,  0.10980392,\n",
       "        -0.18431373, -0.16086275, -0.14509804, -0.1372549 , -0.12156863,\n",
       "        -0.10588235, -0.0745098 , -0.05068392, -0.02723294, -0.01146824,\n",
       "        -0.0036251 ,  0.01206118,  0.02774745,  0.05912   ]),\n",
       " array([-0.12390745,  0.01294242, -0.11096504, -0.13684987,  0.10980392,\n",
       "        -0.17647059, -0.15294118, -0.12941176, -0.12156863, -0.11372549,\n",
       "        -0.09019608, -0.06666667, -0.05256314, -0.02903373, -0.00550431,\n",
       "         0.00233882,  0.01018196,  0.03371137,  0.05724078]),\n",
       " array([-0.12394353,  0.01248124, -0.11146229, -0.13642476,  0.10196078,\n",
       "        -0.17647059, -0.15294118, -0.12941176, -0.12156863, -0.11372549,\n",
       "        -0.09803922, -0.0745098 , -0.05252706, -0.02899765, -0.00546824,\n",
       "         0.0023749 ,  0.01021804,  0.02590431,  0.04943373]),\n",
       " array([-1.21673725e-01,  1.28736426e-02, -1.08800083e-01, -1.34547368e-01,\n",
       "         9.41176471e-02, -1.68627451e-01, -1.52941176e-01, -1.29411765e-01,\n",
       "        -1.21568627e-01, -1.13725490e-01, -9.01960784e-02, -7.45098039e-02,\n",
       "        -4.69537255e-02, -3.12674510e-02, -7.73803922e-03,  1.05098039e-04,\n",
       "         7.94823529e-03,  3.14776471e-02,  4.71639216e-02]),\n",
       " array([-0.11748392,  0.01234955, -0.10513437, -0.12983347,  0.10980392,\n",
       "        -0.16078431, -0.14509804, -0.12941176, -0.11372549, -0.10588235,\n",
       "        -0.09019608, -0.05098039, -0.04330039, -0.02761412, -0.01192784,\n",
       "         0.00375843,  0.01160157,  0.02728784,  0.06650353]),\n",
       " array([-0.11894431,  0.01221499, -0.10672933, -0.1311593 ,  0.08627451,\n",
       "        -0.16078431, -0.14509804, -0.12941176, -0.12156863, -0.11372549,\n",
       "        -0.09019608, -0.0745098 , -0.04184   , -0.02615373, -0.01046745,\n",
       "        -0.00262431,  0.00521882,  0.02874824,  0.04443451]),\n",
       " array([-0.11407529,  0.01163286, -0.10244244, -0.12570815,  0.08627451,\n",
       "        -0.16078431, -0.1372549 , -0.12156863, -0.11372549, -0.10588235,\n",
       "        -0.09019608, -0.0745098 , -0.04670902, -0.02317961, -0.00749333,\n",
       "         0.0003498 ,  0.00819294,  0.02387922,  0.03956549]),\n",
       " array([-0.11324235,  0.01178419, -0.10145817, -0.12502654,  0.08627451,\n",
       "        -0.16078431, -0.1372549 , -0.12156863, -0.11372549, -0.10588235,\n",
       "        -0.09019608, -0.0745098 , -0.04754196, -0.02401255, -0.00832627,\n",
       "        -0.00048314,  0.00736   ,  0.02304627,  0.03873255]),\n",
       " array([-0.10725333,  0.0119831 , -0.09527023, -0.11923644,  0.08627451,\n",
       "        -0.14509804, -0.1372549 , -0.11372549, -0.10588235, -0.09803922,\n",
       "        -0.08235294, -0.05882353, -0.03784471, -0.03000157, -0.00647216,\n",
       "         0.00137098,  0.00921412,  0.02490039,  0.0484298 ]),\n",
       " array([-0.0984251 ,  0.01161319, -0.08681191, -0.11003829,  0.07843137,\n",
       "        -0.1372549 , -0.12156863, -0.10588235, -0.09803922, -0.09019608,\n",
       "        -0.0745098 , -0.05882353, -0.0388298 , -0.02314353, -0.00745725,\n",
       "         0.00038588,  0.00822902,  0.02391529,  0.03960157]),\n",
       " array([-0.09483451,  0.01134538, -0.08348913, -0.10617989,  0.08627451,\n",
       "        -0.14509804, -0.12156863, -0.10588235, -0.09803922, -0.09019608,\n",
       "        -0.06666667, -0.05882353, -0.05026353, -0.02673412, -0.01104784,\n",
       "        -0.00320471,  0.00463843,  0.02816784,  0.03601098]),\n",
       " array([-0.08973333,  0.01137969, -0.07835365, -0.10111302,  0.08627451,\n",
       "        -0.12941176, -0.11372549, -0.09803922, -0.09019608, -0.08235294,\n",
       "        -0.06666667, -0.04313725, -0.03967843, -0.02399216, -0.00830588,\n",
       "        -0.00046275,  0.00738039,  0.02306667,  0.04659608]),\n",
       " array([-0.08123451,  0.01175193, -0.06948258, -0.09298644,  0.07843137,\n",
       "        -0.12156863, -0.10588235, -0.09019608, -0.08235294, -0.0745098 ,\n",
       "        -0.05882353, -0.04313725, -0.04033412, -0.02464784, -0.00896157,\n",
       "        -0.00111843,  0.00672471,  0.02241098,  0.03809725]),\n",
       " array([-0.07386196,  0.01116534, -0.06269662, -0.0850273 ,  0.08627451,\n",
       "        -0.12156863, -0.09803922, -0.08235294, -0.0745098 , -0.06666667,\n",
       "        -0.05098039, -0.03529412, -0.04770667, -0.02417725, -0.00849098,\n",
       "        -0.00064784,  0.00719529,  0.02288157,  0.03856784]),\n",
       " array([-0.07065725,  0.01087317, -0.05978409, -0.08153042,  0.07058824,\n",
       "        -0.10588235, -0.09803922, -0.0745098 , -0.06666667, -0.06666667,\n",
       "        -0.04313725, -0.03529412, -0.0352251 , -0.02738196, -0.00385255,\n",
       "         0.00399059,  0.00399059,  0.02752   ,  0.03536314]),\n",
       " array([-0.06715451,  0.0108528 , -0.05630171, -0.07800731,  0.07058824,\n",
       "        -0.10588235, -0.09019608, -0.0745098 , -0.06666667, -0.05882353,\n",
       "        -0.04313725, -0.03529412, -0.03872784, -0.02304157, -0.00735529,\n",
       "         0.00048784,  0.00833098,  0.02401725,  0.03186039]),\n",
       " array([-0.06343059,  0.01093422, -0.05249637, -0.0743648 ,  0.07843137,\n",
       "        -0.10588235, -0.09019608, -0.0745098 , -0.06666667, -0.05882353,\n",
       "        -0.03529412, -0.02745098, -0.04245176, -0.02676549, -0.01107922,\n",
       "        -0.00323608,  0.00460706,  0.02813647,  0.03597961])]"
      ]
     },
     "execution_count": 68,
     "metadata": {},
     "output_type": "execute_result"
    }
   ],
   "source": [
    "new_ts"
   ]
  },
  {
   "cell_type": "code",
   "execution_count": 55,
   "metadata": {},
   "outputs": [
    {
     "data": {
      "text/plain": [
       "3.0"
      ]
     },
     "execution_count": 55,
     "metadata": {},
     "output_type": "execute_result"
    }
   ],
   "source": [
    "a = np.array([3, 2, 1])\n",
    "np.percentile(a, 100)"
   ]
  },
  {
   "cell_type": "code",
   "execution_count": 34,
   "metadata": {
    "scrolled": true
   },
   "outputs": [
    {
     "data": {
      "text/plain": [
       "<matplotlib.axes._subplots.AxesSubplot at 0x1bdb5be9670>"
      ]
     },
     "execution_count": 34,
     "metadata": {},
     "output_type": "execute_result"
    },
    {
     "data": {
      "image/png": "[encoded data removed]",
      "text/plain": [
       "<Figure size 432x288 with 1 Axes>"
      ]
     },
     "metadata": {
      "needs_background": "light"
     },
     "output_type": "display_data"
    }
   ],
   "source": [
    "# single range looks like this \n",
    "ts_range.plot()"
   ]
  },
  {
   "cell_type": "code",
   "execution_count": 59,
   "metadata": {
    "scrolled": true
   },
   "outputs": [
    {
     "data": {
      "text/plain": [
       "19"
      ]
     },
     "execution_count": 59,
     "metadata": {},
     "output_type": "execute_result"
    }
   ],
   "source": [
    "transformed_sig.shape[1]"
   ]
  },
  {
   "cell_type": "code",
   "execution_count": 16,
   "metadata": {
    "_uuid": "52dc826ab9ee1dd56c9fb29bd5c1b2d26b5928bf"
   },
   "outputs": [
    {
     "name": "stderr",
     "output_type": "stream",
     "text": [
      "100%|██████████| 1452/1452 [09:49<00:00,  2.46it/s]\n",
      "100%|██████████| 1452/1452 [09:51<00:00,  2.45it/s]\n"
     ]
    }
   ],
   "source": [
    "# this code is very simple, divide the total size of the df_train into two sets and process it\n",
    "X = []\n",
    "y = []\n",
    "def load_all():\n",
    "    total_size = len(df_train)\n",
    "    for ini, end in [(0, int(total_size/2)), (int(total_size/2), total_size)]:\n",
    "        X_temp, y_temp = prep_data(ini, end)\n",
    "        X.append(X_temp)\n",
    "        y.append(y_temp)\n",
    "load_all()\n",
    "X = np.concatenate(X)\n",
    "y = np.concatenate(y)"
   ]
  },
  {
   "cell_type": "code",
   "execution_count": 11,
   "metadata": {
    "_uuid": "51ad0e25b00536de6170168499923d82ae1d735f"
   },
   "outputs": [
    {
     "name": "stdout",
     "output_type": "stream",
     "text": [
      "(2904, 160, 57) (2904,)\n"
     ]
    }
   ],
   "source": [
    "# The X shape here is very important. It is also important undertand a little how a LSTM works\n",
    "# X.shape[0] is the number of id_measuremts contained in train data\n",
    "# X.shape[1] is the number of chunks resultant of the transformation, each of this date enters in the LSTM serialized\n",
    "# This way the LSTM can understand the position of a data relative with other and activate a signal that needs\n",
    "# a serie of inputs in a specifc order.\n",
    "# X.shape[3] is the number of features multiplied by the number of phases (3)\n",
    "print(X.shape, y.shape)\n",
    "# save data into file, a numpy specific format\n",
    "np.save(\"X.npy\",X)\n",
    "np.save(\"y.npy\",y)"
   ]
  },
  {
   "cell_type": "code",
   "execution_count": 12,
   "metadata": {
    "_uuid": "289bc7d1ab8048a60025801b457f8df1d848acbc"
   },
   "outputs": [],
   "source": [
    "# This is NN LSTM Model creation\n",
    "def model_lstm(input_shape):\n",
    "    # The shape was explained above, must have this order\n",
    "    inp = Input(shape=(input_shape[1], input_shape[2],))\n",
    "    # This is the LSTM layer\n",
    "    # Bidirecional implies that the 160 chunks are calculated in both ways, 0 to 159 and 159 to zero\n",
    "    # although it appear that just 0 to 159 way matter, I have tested with and without, and tha later worked best\n",
    "    # 128 and 64 are the number of cells used, too many can overfit and too few can underfit\n",
    "    x = Bidirectional(CuDNNLSTM(128, return_sequences=True))(inp)\n",
    "    # The second LSTM can give more fire power to the model, but can overfit it too\n",
    "    x = Bidirectional(CuDNNLSTM(64, return_sequences=True))(x)\n",
    "    # Attention is a new tecnology that can be applyed to a Recurrent NN to give more meanings to a signal found in the middle\n",
    "    # of the data, it helps more in longs chains of data. A normal RNN give all the responsibility of detect the signal\n",
    "    # to the last cell. Google RNN Attention for more information :)\n",
    "    x = Attention(input_shape[1])(x)\n",
    "    # A intermediate full connected (Dense) can help to deal with nonlinears outputs\n",
    "    x = Dense(64, activation=\"relu\")(x)\n",
    "    # A binnary classification as this must finish with shape (1,)\n",
    "    x = Dense(1, activation=\"sigmoid\")(x)\n",
    "    model = Model(inputs=inp, outputs=x)\n",
    "    # Pay attention in the addition of matthews_correlation metric in the compilation, it is a success factor key\n",
    "    model.compile(loss='binary_crossentropy', optimizer='adam', metrics=[matthews_correlation])\n",
    "    \n",
    "    return model"
   ]
  },
  {
   "cell_type": "code",
   "execution_count": 2,
   "metadata": {
    "_uuid": "8d6f4ca319c383b1b4f671a37c5a324136e7a466"
   },
   "outputs": [
    {
     "ename": "NameError",
     "evalue": "name 'StratifiedKFold' is not defined",
     "output_type": "error",
     "traceback": [
      "\u001b[0;31m---------------------------------------------------------------------------\u001b[0m",
      "\u001b[0;31mNameError\u001b[0m                                 Traceback (most recent call last)",
      "\u001b[0;32m<ipython-input-2-2bcd0eaa27da>\u001b[0m in \u001b[0;36m<module>\u001b[0;34m()\u001b[0m\n\u001b[1;32m      2\u001b[0m \u001b[0;34m\u001b[0m\u001b[0m\n\u001b[1;32m      3\u001b[0m \u001b[0;31m# First, create a set of indexes of the 5 folds\u001b[0m\u001b[0;34m\u001b[0m\u001b[0;34m\u001b[0m\u001b[0m\n\u001b[0;32m----> 4\u001b[0;31m \u001b[0msplits\u001b[0m \u001b[0;34m=\u001b[0m \u001b[0mlist\u001b[0m\u001b[0;34m(\u001b[0m\u001b[0mStratifiedKFold\u001b[0m\u001b[0;34m(\u001b[0m\u001b[0mn_splits\u001b[0m\u001b[0;34m=\u001b[0m\u001b[0mN_SPLITS\u001b[0m\u001b[0;34m,\u001b[0m \u001b[0mshuffle\u001b[0m\u001b[0;34m=\u001b[0m\u001b[0;32mTrue\u001b[0m\u001b[0;34m,\u001b[0m \u001b[0mrandom_state\u001b[0m\u001b[0;34m=\u001b[0m\u001b[0;36m2019\u001b[0m\u001b[0;34m)\u001b[0m\u001b[0;34m.\u001b[0m\u001b[0msplit\u001b[0m\u001b[0;34m(\u001b[0m\u001b[0mX\u001b[0m\u001b[0;34m,\u001b[0m \u001b[0my\u001b[0m\u001b[0;34m)\u001b[0m\u001b[0;34m)\u001b[0m\u001b[0;34m\u001b[0m\u001b[0m\n\u001b[0m\u001b[1;32m      5\u001b[0m \u001b[0mpreds_val\u001b[0m \u001b[0;34m=\u001b[0m \u001b[0;34m[\u001b[0m\u001b[0;34m]\u001b[0m\u001b[0;34m\u001b[0m\u001b[0m\n\u001b[1;32m      6\u001b[0m \u001b[0my_val\u001b[0m \u001b[0;34m=\u001b[0m \u001b[0;34m[\u001b[0m\u001b[0;34m]\u001b[0m\u001b[0;34m\u001b[0m\u001b[0m\n",
      "\u001b[0;31mNameError\u001b[0m: name 'StratifiedKFold' is not defined"
     ]
    }
   ],
   "source": [
    "# Here is where the training happens\n",
    "\n",
    "# First, create a set of indexes of the 5 folds\n",
    "splits = list(StratifiedKFold(n_splits=N_SPLITS, shuffle=True, random_state=2019).split(X, y))\n",
    "preds_val = []\n",
    "y_val = []\n",
    "# Then, iteract with each fold\n",
    "# If you dont know, enumerate(['a', 'b', 'c']) returns [(0, 'a'), (1, 'b'), (2, 'c')]\n",
    "for idx, (train_idx, val_idx) in enumerate(splits):\n",
    "    K.clear_session() # I dont know what it do, but I imagine that it \"clear session\" :)\n",
    "    print(\"Beginning fold {}\".format(idx+1))\n",
    "    # use the indexes to extract the folds in the train and validation data\n",
    "    train_X, train_y, val_X, val_y = X[train_idx], y[train_idx], X[val_idx], y[val_idx]\n",
    "    # instantiate the model for this fold\n",
    "    model = model_lstm(train_X.shape)\n",
    "    # This checkpoint helps to avoid overfitting. It just save the weights of the model if it delivered an\n",
    "    # validation matthews_correlation greater than the last one.\n",
    "    ckpt = ModelCheckpoint('weights_{}.h5'.format(idx), save_best_only=True, save_weights_only=True, verbose=1, monitor='val_matthews_correlation', mode='max')\n",
    "    # Train, train, train\n",
    "    model.fit(train_X, train_y, batch_size=128, epochs=50, validation_data=[val_X, val_y], callbacks=[ckpt])\n",
    "    # loads the best weights saved by the checkpoint\n",
    "    model.load_weights('weights_{}.h5'.format(idx))\n",
    "    # Add the predictions of the validation to the list preds_val\n",
    "    preds_val.append(model.predict(val_X, batch_size=512))\n",
    "    # and the val true y\n",
    "    y_val.append(val_y)\n",
    "\n",
    "# concatenates all and prints the shape    \n",
    "preds_val = np.concatenate(preds_val)[...,0]\n",
    "y_val = np.concatenate(y_val)\n",
    "preds_val.shape, y_val.shape"
   ]
  },
  {
   "cell_type": "code",
   "execution_count": 1,
   "metadata": {},
   "outputs": [
    {
     "ename": "NameError",
     "evalue": "name 'X' is not defined",
     "output_type": "error",
     "traceback": [
      "\u001b[0;31m---------------------------------------------------------------------------\u001b[0m",
      "\u001b[0;31mNameError\u001b[0m                                 Traceback (most recent call last)",
      "\u001b[0;32m<ipython-input-1-bc5f1a0adac8>\u001b[0m in \u001b[0;36m<module>\u001b[0;34m()\u001b[0m\n\u001b[0;32m----> 1\u001b[0;31m \u001b[0mX\u001b[0m\u001b[0;34m.\u001b[0m\u001b[0mshape\u001b[0m\u001b[0;34m\u001b[0m\u001b[0m\n\u001b[0m",
      "\u001b[0;31mNameError\u001b[0m: name 'X' is not defined"
     ]
    }
   ],
   "source": [
    "X.shape"
   ]
  },
  {
   "cell_type": "code",
   "execution_count": null,
   "metadata": {
    "_uuid": "d28151fd0be9fd9762f3f55e307d82f89bfbd291"
   },
   "outputs": [],
   "source": [
    "# The output of this kernel must be binary (0 or 1), but the output of the NN Model is float (0 to 1).\n",
    "# So, find the best threshold to convert float to binary is crucial to the result\n",
    "# this piece of code is a function that evaluates all the possible thresholds from 0 to 1 by 0.01\n",
    "def threshold_search(y_true, y_proba):\n",
    "    best_threshold = 0\n",
    "    best_score = 0\n",
    "    for threshold in tqdm([i * 0.01 for i in range(100)]):\n",
    "        score = K.eval(matthews_correlation(y_true.astype(np.float64), (y_proba > threshold).astype(np.float64)))\n",
    "        if score > best_score:\n",
    "            best_threshold = threshold\n",
    "            best_score = score\n",
    "    search_result = {'threshold': best_threshold, 'matthews_correlation': best_score}\n",
    "    return search_result"
   ]
  },
  {
   "cell_type": "code",
   "execution_count": null,
   "metadata": {
    "_uuid": "6fee7f722ed08bc1453a822a4371ed2d48e08abc"
   },
   "outputs": [],
   "source": [
    "best_threshold = threshold_search(y_val, preds_val)['threshold']"
   ]
  },
  {
   "cell_type": "code",
   "execution_count": null,
   "metadata": {
    "_uuid": "ae9bd3fa9d8c0781c0708846bb7f2a9f9e6cbd3c"
   },
   "outputs": [],
   "source": [
    "%%time\n",
    "# Now load the test data\n",
    "# This first part is the meta data, not the main data, the measurements\n",
    "meta_test = pd.read_csv('../input/metadata_test.csv')"
   ]
  },
  {
   "cell_type": "code",
   "execution_count": null,
   "metadata": {
    "_uuid": "3eb186d032f79c99ffba05dd1a7fabb77e13cec5"
   },
   "outputs": [],
   "source": [
    "meta_test = meta_test.set_index(['signal_id'])\n",
    "meta_test.head()"
   ]
  },
  {
   "cell_type": "code",
   "execution_count": null,
   "metadata": {
    "_uuid": "6f8e94387f625bff0a9a6289e1ee038908bc5856"
   },
   "outputs": [],
   "source": [
    "%%time\n",
    "# First we daclarete a series of parameters to initiate the loading of the main data\n",
    "# it is too large, it is impossible to load in one time, so we are doing it in dividing in 10 parts\n",
    "first_sig = meta_test.index[0]\n",
    "n_parts = 10\n",
    "max_line = len(meta_test)\n",
    "part_size = int(max_line / n_parts)\n",
    "last_part = max_line % n_parts\n",
    "print(first_sig, n_parts, max_line, part_size, last_part, n_parts * part_size + last_part)\n",
    "# Here we create a list of lists with start index and end index for each of the 10 parts and one for the last partial part\n",
    "start_end = [[x, x+part_size] for x in range(first_sig, max_line + first_sig, part_size)]\n",
    "start_end = start_end[:-1] + [[start_end[-1][0], start_end[-1][0] + last_part]]\n",
    "print(start_end)\n",
    "X_test = []\n",
    "# now, very like we did above with the train data, we convert the test data part by part\n",
    "# transforming the 3 phases 800000 measurement in matrix (160,57)\n",
    "for start, end in start_end:\n",
    "    subset_test = pq.read_pandas('../input/test.parquet', columns=[str(i) for i in range(start, end)]).to_pandas()\n",
    "    for i in tqdm(subset_test.columns):\n",
    "        id_measurement, phase = meta_test.loc[int(i)]\n",
    "        subset_test_col = subset_test[i]\n",
    "        subset_trans = transform_ts(subset_test_col)\n",
    "        X_test.append([i, id_measurement, phase, subset_trans])"
   ]
  },
  {
   "cell_type": "code",
   "execution_count": null,
   "metadata": {
    "_uuid": "af9aa6b2b8f8a2beda1a02ff998e3072fcad8d06"
   },
   "outputs": [],
   "source": [
    "X_test_input = np.asarray([np.concatenate([X_test[i][3],X_test[i+1][3], X_test[i+2][3]], axis=1) for i in range(0,len(X_test), 3)])\n",
    "np.save(\"X_test.npy\",X_test_input)\n",
    "X_test_input.shape"
   ]
  },
  {
   "cell_type": "code",
   "execution_count": null,
   "metadata": {
    "_uuid": "cfd265d3e07c4cc1679d2c4d55fe7de631c813e7"
   },
   "outputs": [],
   "source": [
    "submission = pd.read_csv('../input/sample_submission.csv')\n",
    "print(len(submission))\n",
    "submission.head()"
   ]
  },
  {
   "cell_type": "code",
   "execution_count": null,
   "metadata": {
    "_uuid": "2f7342296138f6bfd3e9cedd029e1035de3b98fc"
   },
   "outputs": [],
   "source": [
    "preds_test = []\n",
    "for i in range(N_SPLITS):\n",
    "    model.load_weights('weights_{}.h5'.format(i))\n",
    "    pred = model.predict(X_test_input, batch_size=300, verbose=1)\n",
    "    pred_3 = []\n",
    "    for pred_scalar in pred:\n",
    "        for i in range(3):\n",
    "            pred_3.append(pred_scalar)\n",
    "    preds_test.append(pred_3)"
   ]
  },
  {
   "cell_type": "code",
   "execution_count": null,
   "metadata": {
    "_uuid": "9f76c471eaf983707d446c5081ab3d50c4e40ea5"
   },
   "outputs": [],
   "source": [
    "preds_test = (np.squeeze(np.mean(preds_test, axis=0)) > best_threshold).astype(np.int)\n",
    "preds_test.shape"
   ]
  },
  {
   "cell_type": "code",
   "execution_count": null,
   "metadata": {
    "_uuid": "b35723f85d494b4b6ec630dd7c79135a110a4062"
   },
   "outputs": [],
   "source": [
    "submission['target'] = preds_test\n",
    "submission.to_csv('submission.csv', index=False)\n",
    "submission.head()"
   ]
  },
  {
   "cell_type": "code",
   "execution_count": null,
   "metadata": {
    "_uuid": "d7600d0093a9880003240ef9ce0a1f1303e4d982"
   },
   "outputs": [],
   "source": [
    "submission.to_csv('/kaggle/working/submission.csv', index=False)"
   ]
  },
  {
   "cell_type": "code",
   "execution_count": 1,
   "metadata": {
    "scrolled": true
   },
   "outputs": [
    {
     "data": {
      "text/plain": [
       "625.0"
      ]
     },
     "execution_count": 1,
     "metadata": {},
     "output_type": "execute_result"
    }
   ],
   "source": [
    "50000/80"
   ]
  },
  {
   "cell_type": "code",
   "execution_count": 7,
   "metadata": {
    "scrolled": false
   },
   "outputs": [
    {
     "ename": "TypeError",
     "evalue": "__init__() missing 1 required positional argument: 'step_dim'",
     "output_type": "error",
     "traceback": [
      "\u001b[1;31m---------------------------------------------------------------------------\u001b[0m",
      "\u001b[1;31mTypeError\u001b[0m                                 Traceback (most recent call last)",
      "\u001b[1;32m<ipython-input-7-fe8f3aa2d0bf>\u001b[0m in \u001b[0;36m<module>\u001b[1;34m\u001b[0m\n\u001b[0;32m      1\u001b[0m \u001b[1;32mfrom\u001b[0m \u001b[0mkeras\u001b[0m\u001b[1;33m.\u001b[0m\u001b[0mmodels\u001b[0m \u001b[1;32mimport\u001b[0m \u001b[0mload_model\u001b[0m\u001b[1;33m\u001b[0m\u001b[1;33m\u001b[0m\u001b[0m\n\u001b[0;32m      2\u001b[0m \u001b[1;32mfrom\u001b[0m \u001b[0mattention\u001b[0m \u001b[1;32mimport\u001b[0m \u001b[0mAttention\u001b[0m\u001b[1;33m\u001b[0m\u001b[1;33m\u001b[0m\u001b[0m\n\u001b[1;32m----> 3\u001b[1;33m \u001b[0mmodel\u001b[0m \u001b[1;33m=\u001b[0m \u001b[0mload_model\u001b[0m\u001b[1;33m(\u001b[0m\u001b[1;34m'attention_model.h5'\u001b[0m\u001b[1;33m,\u001b[0m \u001b[0mcustom_objects\u001b[0m\u001b[1;33m=\u001b[0m\u001b[1;33m{\u001b[0m\u001b[1;34m'Attention'\u001b[0m\u001b[1;33m:\u001b[0m \u001b[0mAttention\u001b[0m\u001b[1;33m}\u001b[0m\u001b[1;33m)\u001b[0m\u001b[1;33m\u001b[0m\u001b[1;33m\u001b[0m\u001b[0m\n\u001b[0m",
      "\u001b[1;32mc:\\users\\rajgopalvenkatramani\\appdata\\local\\programs\\python\\python38\\lib\\site-packages\\keras\\engine\\saving.py\u001b[0m in \u001b[0;36mload_wrapper\u001b[1;34m(*args, **kwargs)\u001b[0m\n\u001b[0;32m    490\u001b[0m                 \u001b[0mos\u001b[0m\u001b[1;33m.\u001b[0m\u001b[0mremove\u001b[0m\u001b[1;33m(\u001b[0m\u001b[0mtmp_filepath\u001b[0m\u001b[1;33m)\u001b[0m\u001b[1;33m\u001b[0m\u001b[1;33m\u001b[0m\u001b[0m\n\u001b[0;32m    491\u001b[0m             \u001b[1;32mreturn\u001b[0m \u001b[0mres\u001b[0m\u001b[1;33m\u001b[0m\u001b[1;33m\u001b[0m\u001b[0m\n\u001b[1;32m--> 492\u001b[1;33m         \u001b[1;32mreturn\u001b[0m \u001b[0mload_function\u001b[0m\u001b[1;33m(\u001b[0m\u001b[1;33m*\u001b[0m\u001b[0margs\u001b[0m\u001b[1;33m,\u001b[0m \u001b[1;33m**\u001b[0m\u001b[0mkwargs\u001b[0m\u001b[1;33m)\u001b[0m\u001b[1;33m\u001b[0m\u001b[1;33m\u001b[0m\u001b[0m\n\u001b[0m\u001b[0;32m    493\u001b[0m \u001b[1;33m\u001b[0m\u001b[0m\n\u001b[0;32m    494\u001b[0m     \u001b[1;32mreturn\u001b[0m \u001b[0mload_wrapper\u001b[0m\u001b[1;33m\u001b[0m\u001b[1;33m\u001b[0m\u001b[0m\n",
      "\u001b[1;32mc:\\users\\rajgopalvenkatramani\\appdata\\local\\programs\\python\\python38\\lib\\site-packages\\keras\\engine\\saving.py\u001b[0m in \u001b[0;36mload_model\u001b[1;34m(filepath, custom_objects, compile)\u001b[0m\n\u001b[0;32m    582\u001b[0m     \u001b[1;32mif\u001b[0m \u001b[0mH5Dict\u001b[0m\u001b[1;33m.\u001b[0m\u001b[0mis_supported_type\u001b[0m\u001b[1;33m(\u001b[0m\u001b[0mfilepath\u001b[0m\u001b[1;33m)\u001b[0m\u001b[1;33m:\u001b[0m\u001b[1;33m\u001b[0m\u001b[1;33m\u001b[0m\u001b[0m\n\u001b[0;32m    583\u001b[0m         \u001b[1;32mwith\u001b[0m \u001b[0mH5Dict\u001b[0m\u001b[1;33m(\u001b[0m\u001b[0mfilepath\u001b[0m\u001b[1;33m,\u001b[0m \u001b[0mmode\u001b[0m\u001b[1;33m=\u001b[0m\u001b[1;34m'r'\u001b[0m\u001b[1;33m)\u001b[0m \u001b[1;32mas\u001b[0m \u001b[0mh5dict\u001b[0m\u001b[1;33m:\u001b[0m\u001b[1;33m\u001b[0m\u001b[1;33m\u001b[0m\u001b[0m\n\u001b[1;32m--> 584\u001b[1;33m             \u001b[0mmodel\u001b[0m \u001b[1;33m=\u001b[0m \u001b[0m_deserialize_model\u001b[0m\u001b[1;33m(\u001b[0m\u001b[0mh5dict\u001b[0m\u001b[1;33m,\u001b[0m \u001b[0mcustom_objects\u001b[0m\u001b[1;33m,\u001b[0m \u001b[0mcompile\u001b[0m\u001b[1;33m)\u001b[0m\u001b[1;33m\u001b[0m\u001b[1;33m\u001b[0m\u001b[0m\n\u001b[0m\u001b[0;32m    585\u001b[0m     \u001b[1;32melif\u001b[0m \u001b[0mhasattr\u001b[0m\u001b[1;33m(\u001b[0m\u001b[0mfilepath\u001b[0m\u001b[1;33m,\u001b[0m \u001b[1;34m'write'\u001b[0m\u001b[1;33m)\u001b[0m \u001b[1;32mand\u001b[0m \u001b[0mcallable\u001b[0m\u001b[1;33m(\u001b[0m\u001b[0mfilepath\u001b[0m\u001b[1;33m.\u001b[0m\u001b[0mwrite\u001b[0m\u001b[1;33m)\u001b[0m\u001b[1;33m:\u001b[0m\u001b[1;33m\u001b[0m\u001b[1;33m\u001b[0m\u001b[0m\n\u001b[0;32m    586\u001b[0m         \u001b[1;32mdef\u001b[0m \u001b[0mload_function\u001b[0m\u001b[1;33m(\u001b[0m\u001b[0mh5file\u001b[0m\u001b[1;33m)\u001b[0m\u001b[1;33m:\u001b[0m\u001b[1;33m\u001b[0m\u001b[1;33m\u001b[0m\u001b[0m\n",
      "\u001b[1;32mc:\\users\\rajgopalvenkatramani\\appdata\\local\\programs\\python\\python38\\lib\\site-packages\\keras\\engine\\saving.py\u001b[0m in \u001b[0;36m_deserialize_model\u001b[1;34m(h5dict, custom_objects, compile)\u001b[0m\n\u001b[0;32m    272\u001b[0m         \u001b[1;32mraise\u001b[0m \u001b[0mValueError\u001b[0m\u001b[1;33m(\u001b[0m\u001b[1;34m'No model found in config.'\u001b[0m\u001b[1;33m)\u001b[0m\u001b[1;33m\u001b[0m\u001b[1;33m\u001b[0m\u001b[0m\n\u001b[0;32m    273\u001b[0m     \u001b[0mmodel_config\u001b[0m \u001b[1;33m=\u001b[0m \u001b[0mjson\u001b[0m\u001b[1;33m.\u001b[0m\u001b[0mloads\u001b[0m\u001b[1;33m(\u001b[0m\u001b[0mmodel_config\u001b[0m\u001b[1;33m.\u001b[0m\u001b[0mdecode\u001b[0m\u001b[1;33m(\u001b[0m\u001b[1;34m'utf-8'\u001b[0m\u001b[1;33m)\u001b[0m\u001b[1;33m)\u001b[0m\u001b[1;33m\u001b[0m\u001b[1;33m\u001b[0m\u001b[0m\n\u001b[1;32m--> 274\u001b[1;33m     \u001b[0mmodel\u001b[0m \u001b[1;33m=\u001b[0m \u001b[0mmodel_from_config\u001b[0m\u001b[1;33m(\u001b[0m\u001b[0mmodel_config\u001b[0m\u001b[1;33m,\u001b[0m \u001b[0mcustom_objects\u001b[0m\u001b[1;33m=\u001b[0m\u001b[0mcustom_objects\u001b[0m\u001b[1;33m)\u001b[0m\u001b[1;33m\u001b[0m\u001b[1;33m\u001b[0m\u001b[0m\n\u001b[0m\u001b[0;32m    275\u001b[0m     \u001b[0mmodel_weights_group\u001b[0m \u001b[1;33m=\u001b[0m \u001b[0mh5dict\u001b[0m\u001b[1;33m[\u001b[0m\u001b[1;34m'model_weights'\u001b[0m\u001b[1;33m]\u001b[0m\u001b[1;33m\u001b[0m\u001b[1;33m\u001b[0m\u001b[0m\n\u001b[0;32m    276\u001b[0m \u001b[1;33m\u001b[0m\u001b[0m\n",
      "\u001b[1;32mc:\\users\\rajgopalvenkatramani\\appdata\\local\\programs\\python\\python38\\lib\\site-packages\\keras\\engine\\saving.py\u001b[0m in \u001b[0;36mmodel_from_config\u001b[1;34m(config, custom_objects)\u001b[0m\n\u001b[0;32m    625\u001b[0m                         '`Sequential.from_config(config)`?')\n\u001b[0;32m    626\u001b[0m     \u001b[1;32mfrom\u001b[0m \u001b[1;33m.\u001b[0m\u001b[1;33m.\u001b[0m\u001b[0mlayers\u001b[0m \u001b[1;32mimport\u001b[0m \u001b[0mdeserialize\u001b[0m\u001b[1;33m\u001b[0m\u001b[1;33m\u001b[0m\u001b[0m\n\u001b[1;32m--> 627\u001b[1;33m     \u001b[1;32mreturn\u001b[0m \u001b[0mdeserialize\u001b[0m\u001b[1;33m(\u001b[0m\u001b[0mconfig\u001b[0m\u001b[1;33m,\u001b[0m \u001b[0mcustom_objects\u001b[0m\u001b[1;33m=\u001b[0m\u001b[0mcustom_objects\u001b[0m\u001b[1;33m)\u001b[0m\u001b[1;33m\u001b[0m\u001b[1;33m\u001b[0m\u001b[0m\n\u001b[0m\u001b[0;32m    628\u001b[0m \u001b[1;33m\u001b[0m\u001b[0m\n\u001b[0;32m    629\u001b[0m \u001b[1;33m\u001b[0m\u001b[0m\n",
      "\u001b[1;32mc:\\users\\rajgopalvenkatramani\\appdata\\local\\programs\\python\\python38\\lib\\site-packages\\keras\\layers\\__init__.py\u001b[0m in \u001b[0;36mdeserialize\u001b[1;34m(config, custom_objects)\u001b[0m\n\u001b[0;32m    163\u001b[0m     \u001b[0mglobs\u001b[0m\u001b[1;33m[\u001b[0m\u001b[1;34m'Model'\u001b[0m\u001b[1;33m]\u001b[0m \u001b[1;33m=\u001b[0m \u001b[0mmodels\u001b[0m\u001b[1;33m.\u001b[0m\u001b[0mModel\u001b[0m\u001b[1;33m\u001b[0m\u001b[1;33m\u001b[0m\u001b[0m\n\u001b[0;32m    164\u001b[0m     \u001b[0mglobs\u001b[0m\u001b[1;33m[\u001b[0m\u001b[1;34m'Sequential'\u001b[0m\u001b[1;33m]\u001b[0m \u001b[1;33m=\u001b[0m \u001b[0mmodels\u001b[0m\u001b[1;33m.\u001b[0m\u001b[0mSequential\u001b[0m\u001b[1;33m\u001b[0m\u001b[1;33m\u001b[0m\u001b[0m\n\u001b[1;32m--> 165\u001b[1;33m     return deserialize_keras_object(config,\n\u001b[0m\u001b[0;32m    166\u001b[0m                                     \u001b[0mmodule_objects\u001b[0m\u001b[1;33m=\u001b[0m\u001b[0mglobs\u001b[0m\u001b[1;33m,\u001b[0m\u001b[1;33m\u001b[0m\u001b[1;33m\u001b[0m\u001b[0m\n\u001b[0;32m    167\u001b[0m                                     \u001b[0mcustom_objects\u001b[0m\u001b[1;33m=\u001b[0m\u001b[0mcustom_objects\u001b[0m\u001b[1;33m,\u001b[0m\u001b[1;33m\u001b[0m\u001b[1;33m\u001b[0m\u001b[0m\n",
      "\u001b[1;32mc:\\users\\rajgopalvenkatramani\\appdata\\local\\programs\\python\\python38\\lib\\site-packages\\keras\\utils\\generic_utils.py\u001b[0m in \u001b[0;36mdeserialize_keras_object\u001b[1;34m(identifier, module_objects, custom_objects, printable_module_name)\u001b[0m\n\u001b[0;32m    142\u001b[0m             \u001b[0mcustom_objects\u001b[0m \u001b[1;33m=\u001b[0m \u001b[0mcustom_objects\u001b[0m \u001b[1;32mor\u001b[0m \u001b[1;33m{\u001b[0m\u001b[1;33m}\u001b[0m\u001b[1;33m\u001b[0m\u001b[1;33m\u001b[0m\u001b[0m\n\u001b[0;32m    143\u001b[0m             \u001b[1;32mif\u001b[0m \u001b[0mhas_arg\u001b[0m\u001b[1;33m(\u001b[0m\u001b[0mcls\u001b[0m\u001b[1;33m.\u001b[0m\u001b[0mfrom_config\u001b[0m\u001b[1;33m,\u001b[0m \u001b[1;34m'custom_objects'\u001b[0m\u001b[1;33m)\u001b[0m\u001b[1;33m:\u001b[0m\u001b[1;33m\u001b[0m\u001b[1;33m\u001b[0m\u001b[0m\n\u001b[1;32m--> 144\u001b[1;33m                 return cls.from_config(\n\u001b[0m\u001b[0;32m    145\u001b[0m                     \u001b[0mconfig\u001b[0m\u001b[1;33m[\u001b[0m\u001b[1;34m'config'\u001b[0m\u001b[1;33m]\u001b[0m\u001b[1;33m,\u001b[0m\u001b[1;33m\u001b[0m\u001b[1;33m\u001b[0m\u001b[0m\n\u001b[0;32m    146\u001b[0m                     custom_objects=dict(list(_GLOBAL_CUSTOM_OBJECTS.items()) +\n",
      "\u001b[1;32mc:\\users\\rajgopalvenkatramani\\appdata\\local\\programs\\python\\python38\\lib\\site-packages\\keras\\engine\\network.py\u001b[0m in \u001b[0;36mfrom_config\u001b[1;34m(cls, config, custom_objects)\u001b[0m\n\u001b[0;32m   1054\u001b[0m         \u001b[1;31m# First, we create all layers and enqueue nodes to be processed\u001b[0m\u001b[1;33m\u001b[0m\u001b[1;33m\u001b[0m\u001b[1;33m\u001b[0m\u001b[0m\n\u001b[0;32m   1055\u001b[0m         \u001b[1;32mfor\u001b[0m \u001b[0mlayer_data\u001b[0m \u001b[1;32min\u001b[0m \u001b[0mconfig\u001b[0m\u001b[1;33m[\u001b[0m\u001b[1;34m'layers'\u001b[0m\u001b[1;33m]\u001b[0m\u001b[1;33m:\u001b[0m\u001b[1;33m\u001b[0m\u001b[1;33m\u001b[0m\u001b[0m\n\u001b[1;32m-> 1056\u001b[1;33m             \u001b[0mprocess_layer\u001b[0m\u001b[1;33m(\u001b[0m\u001b[0mlayer_data\u001b[0m\u001b[1;33m)\u001b[0m\u001b[1;33m\u001b[0m\u001b[1;33m\u001b[0m\u001b[0m\n\u001b[0m\u001b[0;32m   1057\u001b[0m \u001b[1;33m\u001b[0m\u001b[0m\n\u001b[0;32m   1058\u001b[0m         \u001b[1;31m# Then we process nodes in order of layer depth.\u001b[0m\u001b[1;33m\u001b[0m\u001b[1;33m\u001b[0m\u001b[1;33m\u001b[0m\u001b[0m\n",
      "\u001b[1;32mc:\\users\\rajgopalvenkatramani\\appdata\\local\\programs\\python\\python38\\lib\\site-packages\\keras\\engine\\network.py\u001b[0m in \u001b[0;36mprocess_layer\u001b[1;34m(layer_data)\u001b[0m\n\u001b[0;32m   1039\u001b[0m             \u001b[1;32mfrom\u001b[0m \u001b[1;33m.\u001b[0m\u001b[1;33m.\u001b[0m\u001b[0mlayers\u001b[0m \u001b[1;32mimport\u001b[0m \u001b[0mdeserialize\u001b[0m \u001b[1;32mas\u001b[0m \u001b[0mdeserialize_layer\u001b[0m\u001b[1;33m\u001b[0m\u001b[1;33m\u001b[0m\u001b[0m\n\u001b[0;32m   1040\u001b[0m \u001b[1;33m\u001b[0m\u001b[0m\n\u001b[1;32m-> 1041\u001b[1;33m             layer = deserialize_layer(layer_data,\n\u001b[0m\u001b[0;32m   1042\u001b[0m                                       custom_objects=custom_objects)\n\u001b[0;32m   1043\u001b[0m             \u001b[0mcreated_layers\u001b[0m\u001b[1;33m[\u001b[0m\u001b[0mlayer_name\u001b[0m\u001b[1;33m]\u001b[0m \u001b[1;33m=\u001b[0m \u001b[0mlayer\u001b[0m\u001b[1;33m\u001b[0m\u001b[1;33m\u001b[0m\u001b[0m\n",
      "\u001b[1;32mc:\\users\\rajgopalvenkatramani\\appdata\\local\\programs\\python\\python38\\lib\\site-packages\\keras\\layers\\__init__.py\u001b[0m in \u001b[0;36mdeserialize\u001b[1;34m(config, custom_objects)\u001b[0m\n\u001b[0;32m    163\u001b[0m     \u001b[0mglobs\u001b[0m\u001b[1;33m[\u001b[0m\u001b[1;34m'Model'\u001b[0m\u001b[1;33m]\u001b[0m \u001b[1;33m=\u001b[0m \u001b[0mmodels\u001b[0m\u001b[1;33m.\u001b[0m\u001b[0mModel\u001b[0m\u001b[1;33m\u001b[0m\u001b[1;33m\u001b[0m\u001b[0m\n\u001b[0;32m    164\u001b[0m     \u001b[0mglobs\u001b[0m\u001b[1;33m[\u001b[0m\u001b[1;34m'Sequential'\u001b[0m\u001b[1;33m]\u001b[0m \u001b[1;33m=\u001b[0m \u001b[0mmodels\u001b[0m\u001b[1;33m.\u001b[0m\u001b[0mSequential\u001b[0m\u001b[1;33m\u001b[0m\u001b[1;33m\u001b[0m\u001b[0m\n\u001b[1;32m--> 165\u001b[1;33m     return deserialize_keras_object(config,\n\u001b[0m\u001b[0;32m    166\u001b[0m                                     \u001b[0mmodule_objects\u001b[0m\u001b[1;33m=\u001b[0m\u001b[0mglobs\u001b[0m\u001b[1;33m,\u001b[0m\u001b[1;33m\u001b[0m\u001b[1;33m\u001b[0m\u001b[0m\n\u001b[0;32m    167\u001b[0m                                     \u001b[0mcustom_objects\u001b[0m\u001b[1;33m=\u001b[0m\u001b[0mcustom_objects\u001b[0m\u001b[1;33m,\u001b[0m\u001b[1;33m\u001b[0m\u001b[1;33m\u001b[0m\u001b[0m\n",
      "\u001b[1;32mc:\\users\\rajgopalvenkatramani\\appdata\\local\\programs\\python\\python38\\lib\\site-packages\\keras\\utils\\generic_utils.py\u001b[0m in \u001b[0;36mdeserialize_keras_object\u001b[1;34m(identifier, module_objects, custom_objects, printable_module_name)\u001b[0m\n\u001b[0;32m    147\u001b[0m                                         list(custom_objects.items())))\n\u001b[0;32m    148\u001b[0m             \u001b[1;32mwith\u001b[0m \u001b[0mCustomObjectScope\u001b[0m\u001b[1;33m(\u001b[0m\u001b[0mcustom_objects\u001b[0m\u001b[1;33m)\u001b[0m\u001b[1;33m:\u001b[0m\u001b[1;33m\u001b[0m\u001b[1;33m\u001b[0m\u001b[0m\n\u001b[1;32m--> 149\u001b[1;33m                 \u001b[1;32mreturn\u001b[0m \u001b[0mcls\u001b[0m\u001b[1;33m.\u001b[0m\u001b[0mfrom_config\u001b[0m\u001b[1;33m(\u001b[0m\u001b[0mconfig\u001b[0m\u001b[1;33m[\u001b[0m\u001b[1;34m'config'\u001b[0m\u001b[1;33m]\u001b[0m\u001b[1;33m)\u001b[0m\u001b[1;33m\u001b[0m\u001b[1;33m\u001b[0m\u001b[0m\n\u001b[0m\u001b[0;32m    150\u001b[0m         \u001b[1;32melse\u001b[0m\u001b[1;33m:\u001b[0m\u001b[1;33m\u001b[0m\u001b[1;33m\u001b[0m\u001b[0m\n\u001b[0;32m    151\u001b[0m             \u001b[1;31m# Then `cls` may be a function returning a class.\u001b[0m\u001b[1;33m\u001b[0m\u001b[1;33m\u001b[0m\u001b[1;33m\u001b[0m\u001b[0m\n",
      "\u001b[1;32mc:\\users\\rajgopalvenkatramani\\appdata\\local\\programs\\python\\python38\\lib\\site-packages\\keras\\engine\\base_layer.py\u001b[0m in \u001b[0;36mfrom_config\u001b[1;34m(cls, config)\u001b[0m\n\u001b[0;32m   1177\u001b[0m             \u001b[0mA\u001b[0m \u001b[0mlayer\u001b[0m \u001b[0minstance\u001b[0m\u001b[1;33m.\u001b[0m\u001b[1;33m\u001b[0m\u001b[1;33m\u001b[0m\u001b[0m\n\u001b[0;32m   1178\u001b[0m         \"\"\"\n\u001b[1;32m-> 1179\u001b[1;33m         \u001b[1;32mreturn\u001b[0m \u001b[0mcls\u001b[0m\u001b[1;33m(\u001b[0m\u001b[1;33m**\u001b[0m\u001b[0mconfig\u001b[0m\u001b[1;33m)\u001b[0m\u001b[1;33m\u001b[0m\u001b[1;33m\u001b[0m\u001b[0m\n\u001b[0m\u001b[0;32m   1180\u001b[0m \u001b[1;33m\u001b[0m\u001b[0m\n\u001b[0;32m   1181\u001b[0m     \u001b[1;32mdef\u001b[0m \u001b[0mcount_params\u001b[0m\u001b[1;33m(\u001b[0m\u001b[0mself\u001b[0m\u001b[1;33m)\u001b[0m\u001b[1;33m:\u001b[0m\u001b[1;33m\u001b[0m\u001b[1;33m\u001b[0m\u001b[0m\n",
      "\u001b[1;31mTypeError\u001b[0m: __init__() missing 1 required positional argument: 'step_dim'"
     ]
    }
   ],
   "source": [
    "from keras.models import load_model\n",
    "from attention import Attention\n",
    "\n",
    "\n",
    "\n",
    "model = load_model('attention_model.h5', custom_objects={'Attention': Attention})"
   ]
  }
 ],
 "metadata": {
  "kernelspec": {
   "display_name": "Python 3",
   "language": "python",
   "name": "python3"
  },
  "language_info": {
   "codemirror_mode": {
    "name": "ipython",
    "version": 3
   },
   "file_extension": ".py",
   "mimetype": "text/x-python",
   "name": "python",
   "nbconvert_exporter": "python",
   "pygments_lexer": "ipython3",
   "version": "3.8.2"
  },
  "latex_envs": {
   "LaTeX_envs_menu_present": true,
   "autoclose": true,
   "autocomplete": true,
   "bibliofile": "biblio.bib",
   "cite_by": "apalike",
   "current_citInitial": 1,
   "eqLabelWithNumbers": true,
   "eqNumInitial": 1,
   "hotkeys": {
    "equation": "Ctrl-E",
    "itemize": "Ctrl-I"
   },
   "labels_anchors": false,
   "latex_user_defs": false,
   "report_style_numbering": false,
   "user_envs_cfg": false
  },
  "toc": {
   "base_numbering": 1,
   "nav_menu": {},
   "number_sections": true,
   "sideBar": true,
   "skip_h1_title": false,
   "title_cell": "Table of Contents",
   "title_sidebar": "Contents",
   "toc_cell": false,
   "toc_position": {},
   "toc_section_display": true,
   "toc_window_display": false
  }
 },
 "nbformat": 4,
 "nbformat_minor": 4
}
